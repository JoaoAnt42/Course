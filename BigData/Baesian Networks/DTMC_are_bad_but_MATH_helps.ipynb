{
  "cells": [
    {
      "cell_type": "code",
      "execution_count": 1,
      "metadata": {
        "id": "QsRSQRrME9nL"
      },
      "outputs": [],
      "source": [
        "%matplotlib inline\n",
        "import math as m\n",
        "import numpy as np\n",
        "import random as rd\n",
        "import matplotlib.pyplot as plt"
      ]
    },
    {
      "cell_type": "markdown",
      "metadata": {
        "id": "Cpycdm0gEx_2"
      },
      "source": [
        "Gerar a função que queremos modelar."
      ]
    },
    {
      "cell_type": "code",
      "execution_count": 2,
      "metadata": {
        "colab": {
          "base_uri": "https://localhost:8080/",
          "height": 265
        },
        "id": "XJpRDbIKE62R",
        "outputId": "bdc309cb-9bc6-4acd-d0d1-a50635eb7e75"
      },
      "outputs": [
        {
          "data": {
            "image/png": "[encoded data removed]",
            "text/plain": [
              "<Figure size 432x288 with 1 Axes>"
            ]
          },
          "metadata": {
            "needs_background": "light"
          },
          "output_type": "display_data"
        }
      ],
      "source": [
        "func = 1\n",
        "N = 40\n",
        "X = np.linspace(0, 10, N)\n",
        "Y = []\n",
        "for x in X:\n",
        "   if (func==1):\n",
        "      Y.append(2*m.pi*x+(2.5*rd.random())**2); TClass = 5   \n",
        "   if (func==2):\n",
        "      Y.append(2*m.sin(m.pi*x**2+5*x)); TClass = 0.1\n",
        "   if (func==3):\n",
        "      Y.append(2*m.sin(m.pi*(4*x)**3+5*x)); TClass = 0.1\n",
        "   if (func==4):\n",
        "      Y.append(2*m.sin(m.pi*(4*x)**3+5*x)); TClass = 0.05\n",
        "plt.plot(X, Y, '-')\n",
        "plt.show()"
      ]
    },
    {
      "cell_type": "code",
      "execution_count": 3,
      "metadata": {
        "colab": {
          "base_uri": "https://localhost:8080/"
        },
        "id": "-NGT2EU6FWNZ",
        "outputId": "2d7af238-c3f4-4a21-c81f-4b3256344d14"
      },
      "outputs": [
        {
          "name": "stdout",
          "output_type": "stream",
          "text": [
            "K = 68\n",
            "Y = [0.03458057103800665, 6.01896830133141, 5.152693865446717, 4.846222050680625, 7.1317858970278305, 10.020374930207117, 12.472501243932273, 12.108415616313982, 12.91834417998848, 20.466399003475505, 21.03735782942529, 21.21773631111877, 22.976516085525965, 22.19040346159475, 22.949628704598915, 28.869284851230212, 25.820552605844533, 29.187449042984035, 29.3653562982174, 34.036296162682575, 32.80854272889356, 34.96445972562595, 35.704971319371225, 37.35437279098975, 43.809268662192096, 41.01377601784853, 44.173757808880644, 43.904427520856025, 47.85952630952258, 52.49148029967866, 51.45297275381115, 50.29921766444922, 51.60868917240297, 53.94348467796618, 56.97758304952206, 57.2986016855727, 58.09592906013641, 61.4834394346485, 67.19216064184047, 66.5289105597796]\n",
            "Z = [0, 6, 5, 5, 7, 10, 12, 12, 13, 20, 21, 21, 23, 22, 23, 29, 26, 29, 29, 34, 33, 35, 36, 37, 44, 41, 44, 44, 48, 52, 51, 50, 51, 54, 57, 57, 58, 61, 67, 66]\n",
            "W = [0.03458057103800665, 6.048692219169571, 5.046340277814309, 5.046340277814309, 7.051044160524832, 10.058099984590612, 12.062803867301136, 12.062803867301136, 13.065155808656396, 20.081619398143218, 21.083971339498483, 21.083971339498483, 23.088675222209, 22.086323280853744, 23.088675222209, 29.102786870340566, 26.095731046274786, 29.102786870340566, 29.102786870340566, 34.11454657711687, 33.11219463576161, 35.11689851847213, 36.11925045982739, 37.121602401182656, 44.13806599066948, 41.131010166603694, 44.13806599066948, 44.13806599066948, 48.14747375609053, 52.156881521511565, 51.1545295801563, 50.15217763880104, 51.1545295801563, 54.16158540422208, 57.16864122828787, 57.16864122828787, 58.170993169643125, 61.17804899370891, 67.19216064184047, 66.18980870048522]\n",
            "RMSE = 0.2247582273396176\n"
          ]
        }
      ],
      "source": [
        "K = m.ceil((max(Y)-min(Y)/TClass))\n",
        "print('K =',K)\n",
        "\n",
        "def getZ(Y, K): \n",
        "  Z = []\n",
        "  Min = min(Y); Max = max(Y)\n",
        "  for y in Y:\n",
        "    val2class = int(round((K-1)*(y-Min)/(Max-Min),0))\n",
        "    Z.append(val2class)\n",
        "  return Z\n",
        "\n",
        "def getW(Z, Y, K): \n",
        "  W = []\n",
        "  Min = min(Y); Max = max(Y)\n",
        "  for z in Z:\n",
        "    class2val = Min+z*(Max-Min)/(K-1)\n",
        "    W.append(class2val)\n",
        "  return W\n",
        "\n",
        "def RMSE(X,Y):\n",
        "  V = 0; sz = len(X)\n",
        "  for i in range(sz):\n",
        "    V += 1/sz*(X[i]-Y[i])**2\n",
        "  return V**(1/2)\n",
        "\n",
        "Z = getZ(Y, K)\n",
        "W = getW(Z, Y, K)\n",
        "print(\"Y =\",Y)\n",
        "print(\"Z =\",Z)\n",
        "print(\"W =\",W)\n",
        "print(\"RMSE =\",RMSE(Y,W))"
      ]
    },
    {
      "cell_type": "code",
      "execution_count": 4,
      "metadata": {
        "colab": {
          "base_uri": "https://localhost:8080/"
        },
        "id": "cQeF2rw7AoIt",
        "outputId": "8aa5a4ac-c5d4-48dd-d481-39a06b5c581e"
      },
      "outputs": [
        {
          "name": "stdout",
          "output_type": "stream",
          "text": [
            "[[0. 0. 0. ... 0. 0. 0.]\n",
            " [0. 0. 0. ... 0. 0. 0.]\n",
            " [0. 0. 0. ... 0. 0. 0.]\n",
            " ...\n",
            " [0. 0. 0. ... 0. 0. 0.]\n",
            " [0. 0. 0. ... 0. 0. 0.]\n",
            " [0. 0. 0. ... 0. 0. 0.]]\n",
            "P2 = P[Z[i-2],Z[i]]\n",
            "P3 = P[Z[i-3],Z[i]]\n",
            "P4 = P[Z[i-4],Z[i]]\n"
          ]
        }
      ],
      "source": [
        "way = 2\n",
        "prev = 4\n",
        "\n",
        "def getP(Z, K, j):\n",
        "  P = np.zeros((K,K))\n",
        "  for i in range(j,len(Z)-2):\n",
        "    P[Z[i-j],Z[i]] += 1\n",
        "  S = P.sum(axis=1)\n",
        "  for i in range(K):\n",
        "    for j in range(K):\n",
        "      if (S[i]!=0):\n",
        "        P[i,j] = P[i,j] / S[i]\n",
        "  return P\n",
        "\n",
        "P = getP(Z, K , 1)\n",
        "print(P)\n",
        "\n",
        "if (way==0):\n",
        "  P2 = P\n",
        "  P3 = P\n",
        "  P4 = P\n",
        "\n",
        "if (way==1):\n",
        "  print(\"P2 = P^2\")\n",
        "  P2 = np.matmul(P,P)\n",
        "  print(\"P3 = P^3\")\n",
        "  P3 = np.matmul(P2,P)\n",
        "  print(\"P4 = P^4\")\n",
        "  P4 = np.matmul(P3,P)\n",
        "\n",
        "if (way==2):\n",
        "  print(\"P2 = P[Z[i-2],Z[i]]\")\n",
        "  P2 = getP(Z,K,2)\n",
        "  print(\"P3 = P[Z[i-3],Z[i]]\")\n",
        "  P3 = getP(Z,K,3)\n",
        "  print(\"P4 = P[Z[i-4],Z[i]]\")\n",
        "  P4 = getP(Z,K,4)\n",
        "\n",
        "if (prev==1):\n",
        "  u1 = 1; u2 = 0; u3 = 0; u4 = 0\n",
        "if (prev==2):\n",
        "  u1 = 1; u2 = 1; u3 = 0; u4 = 0\n",
        "if (prev==3):\n",
        "  u1 = 1; u2 = 1; u3 = 1; u4 = 0\n",
        "if (prev==4):\n",
        "  u1 = 1; u2 = 1; u3 = 1; u4 = 1"
      ]
    },
    {
      "cell_type": "code",
      "execution_count": 5,
      "metadata": {
        "colab": {
          "base_uri": "https://localhost:8080/",
          "height": 333
        },
        "id": "7XktDv07KSdd",
        "outputId": "4761254f-252c-4f5f-b895-af17bbdce840"
      },
      "outputs": [
        {
          "name": "stdout",
          "output_type": "stream",
          "text": [
            "PMData = 3.475\n",
            "[0, 0, 0, 0, 0, 0, 0, 0, 0, 0, 0, 0, 0, 0, 0, 0, 0, 0, 0, 0, 0, 0, 0, 0, 0, 0, 0, 0, 0, 0, 0, 0, 0, 0, 1, 1]\n",
            "ERROR PERC. = 0.05555555555555555\n"
          ]
        },
        {
          "name": "stderr",
          "output_type": "stream",
          "text": [
            "/var/folders/_l/6yn52l4165j2hbxlxj7ct8640000gn/T/ipykernel_40868/980089551.py:14: RuntimeWarning: invalid value encountered in double_scalars\n",
            "  R[i] = min(u1, M1[i])/max(M1)\n"
          ]
        },
        {
          "data": {
            "image/png": "[encoded data removed]",
            "text/plain": [
              "<Figure size 432x288 with 1 Axes>"
            ]
          },
          "metadata": {
            "needs_background": "light"
          },
          "output_type": "display_data"
        },
        {
          "name": "stdout",
          "output_type": "stream",
          "text": [
            "RMSE = 15.752856795651981\n"
          ]
        }
      ],
      "source": [
        "def predict(Y,Z):\n",
        "  ZPRED = []; YREAL = []; ERRO = []\n",
        "  for j in range(4,N):\n",
        "    v4 = Z[j-4]; v3 = Z[j-3]; v2 = Z[j-2]; v1 = Z[j-1]; v0 = Z[j]\n",
        "    #print(v4,v3,v2,v1,v0)\n",
        "\n",
        "    # I want to predict v0\n",
        "    M4 = P4[v4,:]; M3 = P3[v3,:]; M2 = P2[v2,:]; M1 = P[v1,:] \n",
        "    #print(M0); print(M1); print(M2); print(M3)\n",
        "    #print(\"\")\n",
        "    #print(\"Prediction Prob \",u1,u2,u3,u4)\n",
        "    R = np.zeros(len(M1))\n",
        "    for i in range(len(M1)):             \n",
        "      R[i] = min(u1, M1[i])/max(M1)\n",
        "      if (u2>0 and M2.sum()>0.0):\n",
        "        R[i] *= M2[i]/max(M2)\n",
        "      if (u3>0 and M3.sum()>0.0):\n",
        "        R[i] *= M3[i]/max(M3)\n",
        "      if (u4>0 and M4.sum()>0.0):\n",
        "        R[i] *= M4[i]/max(M4)\n",
        "    #print(R)\n",
        "    #print(\"v0 =\",v0,\" pv0 =\",np.argmax(R))\n",
        "    YREAL.append(Y[j])\n",
        "    ZPRED.append(np.argmax(R))\n",
        "    if (v0==np.argmax(R)):\n",
        "      ERRO.append(0)\n",
        "    else:\n",
        "      ERRO.append(1)\n",
        "\n",
        "  print(\"PMData =\", (u1*np.count_nonzero(P)+u2*np.count_nonzero(P2)+u3*np.count_nonzero(P3)+u4*np.count_nonzero(P4))/N)\n",
        "  print(ERRO)\n",
        "  print(\"ERROR PERC. =\",sum(ERRO)/len(ERRO))\n",
        "\n",
        "  X = range(len(YREAL))\n",
        "  YPRED = getW(ZPRED,Y,K)\n",
        "  plt.plot(X, YREAL, '-')\n",
        "  plt.plot(X, YPRED, '.')\n",
        "  plt.show()\n",
        "\n",
        "  print(\"RMSE =\",RMSE(YREAL,YPRED))\n",
        "\n",
        "predict(Y,Z)"
      ]
    },
    {
      "cell_type": "code",
      "execution_count": 6,
      "metadata": {
        "colab": {
          "base_uri": "https://localhost:8080/",
          "height": 632
        },
        "id": "MkA2GiaBSlFL",
        "outputId": "98ef8b72-e197-410f-c5e3-585b075f80ae"
      },
      "outputs": [
        {
          "name": "stdout",
          "output_type": "stream",
          "text": [
            "40 40\n"
          ]
        },
        {
          "data": {
            "image/png": "[encoded data removed]",
            "text/plain": [
              "<Figure size 432x288 with 1 Axes>"
            ]
          },
          "metadata": {
            "needs_background": "light"
          },
          "output_type": "display_data"
        },
        {
          "name": "stderr",
          "output_type": "stream",
          "text": [
            "/var/folders/_l/6yn52l4165j2hbxlxj7ct8640000gn/T/ipykernel_40868/980089551.py:14: RuntimeWarning: invalid value encountered in double_scalars\n",
            "  R[i] = min(u1, M1[i])/max(M1)\n"
          ]
        },
        {
          "name": "stdout",
          "output_type": "stream",
          "text": [
            "PMData = 3.475\n",
            "[1, 1, 1, 1, 0, 1, 1, 1, 1, 1, 1, 1, 1, 1, 1, 1, 1, 1, 1, 1, 1, 1, 1, 1, 1, 1, 1, 1, 1, 1, 1, 1, 1, 1, 1, 1]\n",
            "ERROR PERC. = 0.9722222222222222\n"
          ]
        },
        {
          "data": {
            "image/png": "[encoded data removed]",
            "text/plain": [
              "<Figure size 432x288 with 1 Axes>"
            ]
          },
          "metadata": {
            "needs_background": "light"
          },
          "output_type": "display_data"
        },
        {
          "name": "stdout",
          "output_type": "stream",
          "text": [
            "RMSE = 22.121476186726504\n",
            "\n"
          ]
        }
      ],
      "source": [
        "G = []; NN = 2\n",
        "for _ in range(m.ceil(10/NN)-1):\n",
        "  i = rd.randint(0,N-4*NN)\n",
        "  for j in range(4*NN):\n",
        "    G.append(Y[i+j])\n",
        "i = rd.randint(0,N-4*NN)\n",
        "sz = len(G)\n",
        "for j in range(i,i+N-sz):\n",
        "  G.append(Y[j])\n",
        "print(len(Y),len(G))\n",
        "plt.plot(range(N), Y, '-')\n",
        "plt.plot(range(N), G, '--')\n",
        "plt.show()\n",
        "\n",
        "predict(G,getZ(G,K))\n",
        "print(\"\")"
      ]
    },
    {
      "cell_type": "code",
      "execution_count": 69,
      "metadata": {
        "id": "lhYW9rbcZk8l"
      },
      "outputs": [],
      "source": []
    }
  ],
  "metadata": {
    "colab": {
      "collapsed_sections": [],
      "name": "DTMC-are-bad-but-MATH-helps.ipynb",
      "provenance": []
    },
    "kernelspec": {
      "display_name": "Python 3.8.2 64-bit",
      "metadata": {
        "interpreter": {
          "hash": "31f2aee4e71d21fbe5cf8b01ff0e069b9275f58929596ceb00d14d90e3e16cd6"
        }
      },
      "name": "python3"
    },
    "language_info": {
      "codemirror_mode": {
        "name": "ipython",
        "version": 3
      },
      "file_extension": ".py",
      "mimetype": "text/x-python",
      "name": "python",
      "nbconvert_exporter": "python",
      "pygments_lexer": "ipython3",
      "version": "3.8.12"
    }
  },
  "nbformat": 4,
  "nbformat_minor": 0
}
