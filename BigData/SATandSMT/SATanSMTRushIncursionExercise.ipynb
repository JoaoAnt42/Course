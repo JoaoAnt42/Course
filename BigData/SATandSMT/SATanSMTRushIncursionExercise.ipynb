{
 "cells": [
  {
   "cell_type": "markdown",
   "id": "f4e4408e",
   "metadata": {
    "slideshow": {
     "slide_type": "slide"
    }
   },
   "source": [
    "\n",
    "# A rush incursion in SAT and SMT (with z3)\n",
    "\n",
    "\n",
    "\n",
    "# 1- SAT -- Boolean satisfiability solving\n",
    "## quantified free propositional formulas\n",
    "Alexandre Madeira\n",
    "\n",
    "\n"
   ]
  },
  {
   "cell_type": "markdown",
   "id": "9e9ab875",
   "metadata": {
    "slideshow": {
     "slide_type": "slide"
    }
   },
   "source": [
    "## In this class we will use z3 Theorem Prover\n",
    "\"Z3 is a state-of-the art theorem prover from Microsoft Research. It can be used to check the satisfiability of logical formulas over one or more theories. Z3 offers a compelling match for software analysis and verification tools, since several common software constructs map directly into supported theories.\"\n"
   ]
  },
  {
   "cell_type": "code",
   "execution_count": 1,
   "id": "a51dca67",
   "metadata": {},
   "outputs": [
    {
     "name": "stdout",
     "output_type": "stream",
     "text": [
      "Collecting z3-solver\n",
      "  Downloading z3_solver-4.11.2.0-py2.py3-none-macosx_10_16_x86_64.whl (29.1 MB)\n",
      "\u001b[2K     \u001b[90m━━━━━━━━━━━━━━━━━━━━━━━━━━━━━━━━━━━━━━━━\u001b[0m \u001b[32m29.1/29.1 MB\u001b[0m \u001b[31m4.9 MB/s\u001b[0m eta \u001b[36m0:00:00\u001b[0m00:01\u001b[0m00:01\u001b[0m\n",
      "\u001b[?25hInstalling collected packages: z3-solver\n",
      "Successfully installed z3-solver-4.11.2.0\n"
     ]
    }
   ],
   "source": [
    "!pip install z3-solver"
   ]
  },
  {
   "cell_type": "code",
   "execution_count": 2,
   "id": "d2feb7a0",
   "metadata": {},
   "outputs": [],
   "source": [
    "from z3 import *"
   ]
  },
  {
   "cell_type": "markdown",
   "id": "27f8c2ca",
   "metadata": {
    "slideshow": {
     "slide_type": "slide"
    }
   },
   "source": [
    "Let us see how to use z3 to check the satisfability or propositional formulas\n",
    "\n",
    "Introduce the set of propositions:"
   ]
  },
  {
   "cell_type": "code",
   "execution_count": 3,
   "id": "125e4616",
   "metadata": {
    "slideshow": {
     "slide_type": "fragment"
    }
   },
   "outputs": [],
   "source": [
    "q = Bool(\"q\")\n",
    "p = Bool(\"p\")"
   ]
  },
  {
   "cell_type": "markdown",
   "id": "0321c4ca",
   "metadata": {
    "slideshow": {
     "slide_type": "fragment"
    }
   },
   "source": [
    "Define a formula:"
   ]
  },
  {
   "cell_type": "code",
   "execution_count": 4,
   "id": "28c0395d",
   "metadata": {},
   "outputs": [
    {
     "data": {
      "text/html": [
       "p &and; q &or; &not;p &or; q"
      ],
      "text/plain": [
       "Or(And(p, q), Or(Not(p), q))"
      ]
     },
     "execution_count": 4,
     "metadata": {},
     "output_type": "execute_result"
    }
   ],
   "source": [
    "formula = Or(And(p,q),Or(Not(p),q))\n",
    "formula"
   ]
  },
  {
   "cell_type": "markdown",
   "id": "846ca896",
   "metadata": {
    "slideshow": {
     "slide_type": "fragment"
    }
   },
   "source": [
    "Setup a z3 model "
   ]
  },
  {
   "cell_type": "code",
   "execution_count": 5,
   "id": "0d254f58",
   "metadata": {},
   "outputs": [],
   "source": [
    "s = Solver()\n",
    "s.add(formula)"
   ]
  },
  {
   "cell_type": "markdown",
   "id": "b2c3cbf2",
   "metadata": {
    "slideshow": {
     "slide_type": "slide"
    }
   },
   "source": [
    "Check if the formula is sat:"
   ]
  },
  {
   "cell_type": "code",
   "execution_count": 6,
   "id": "9ffbb1bc",
   "metadata": {},
   "outputs": [
    {
     "data": {
      "text/html": [
       "<b>sat</b>"
      ],
      "text/plain": [
       "sat"
      ]
     },
     "execution_count": 6,
     "metadata": {},
     "output_type": "execute_result"
    }
   ],
   "source": [
    "s.check()"
   ]
  },
  {
   "cell_type": "markdown",
   "id": "ba595385",
   "metadata": {
    "slideshow": {
     "slide_type": "subslide"
    }
   },
   "source": [
    "Show the interpretation:"
   ]
  },
  {
   "cell_type": "code",
   "execution_count": 7,
   "id": "dbef3732",
   "metadata": {},
   "outputs": [
    {
     "name": "stdout",
     "output_type": "stream",
     "text": [
      "[q = True, p = True]\n"
     ]
    }
   ],
   "source": [
    "print(s.model())"
   ]
  },
  {
   "cell_type": "markdown",
   "id": "dbabe1ed",
   "metadata": {
    "slideshow": {
     "slide_type": "slide"
    }
   },
   "source": [
    "Check if the formula is a tautology:"
   ]
  },
  {
   "cell_type": "code",
   "execution_count": 8,
   "id": "5f80f2cc",
   "metadata": {},
   "outputs": [
    {
     "name": "stdout",
     "output_type": "stream",
     "text": [
      "counterexample\n",
      "[p = True, q = False]\n"
     ]
    }
   ],
   "source": [
    "prove(formula)"
   ]
  },
  {
   "cell_type": "markdown",
   "id": "20fe3d28",
   "metadata": {
    "slideshow": {
     "slide_type": "fragment"
    }
   },
   "source": [
    "Now an example of a tautology/theorem: \n"
   ]
  },
  {
   "cell_type": "code",
   "execution_count": 9,
   "id": "e234c690",
   "metadata": {},
   "outputs": [
    {
     "data": {
      "text/html": [
       "p &or; &not;p"
      ],
      "text/plain": [
       "Or(p, Not(p))"
      ]
     },
     "execution_count": 9,
     "metadata": {},
     "output_type": "execute_result"
    }
   ],
   "source": [
    "formula2 = Or(p,Not(p))\n",
    "formula2"
   ]
  },
  {
   "cell_type": "code",
   "execution_count": 10,
   "id": "22491a71",
   "metadata": {},
   "outputs": [
    {
     "name": "stdout",
     "output_type": "stream",
     "text": [
      "proved\n"
     ]
    }
   ],
   "source": [
    "prove(formula2)"
   ]
  },
  {
   "cell_type": "markdown",
   "id": "00b2914d",
   "metadata": {
    "slideshow": {
     "slide_type": "slide"
    }
   },
   "source": [
    "## Exercise 1"
   ]
  },
  {
   "cell_type": "markdown",
   "id": "9f90fc3e",
   "metadata": {},
   "source": [
    "Solve the following puzzle:\n",
    "\n",
    "\n",
    "You want to throw a party, respecting people’s incompatibilities.\n",
    "You know that:\n",
    "- John comes if Mary or Ann comes. \n",
    "- Ann Comes if Mary does not come. \n",
    "- If Ann comes, John does not.\n",
    "\n",
    "Can you invite people under these constraints?\n",
    "\n",
    "(Logic in Action. van Benthem et al. 2016)"
   ]
  },
  {
   "cell_type": "code",
   "execution_count": 19,
   "id": "bf734a6f",
   "metadata": {
    "slideshow": {
     "slide_type": "slide"
    }
   },
   "outputs": [
    {
     "name": "stdout",
     "output_type": "stream",
     "text": [
      "sat\n",
      "john = True, mary = True, ann = False\n"
     ]
    }
   ],
   "source": [
    "\n",
    "# Create a solver\n",
    "s = Solver()\n",
    "\n",
    "# Create some propositional variables\n",
    "john = Bool('john') # John comes\n",
    "mary = Bool('mary') # Mary comes\n",
    "ann = Bool('ann') # Ann comes\n",
    "\n",
    "\n",
    "# Add constraints\n",
    "#\n",
    "s.add(\n",
    "    Implies(Or(mary, ann), john),\n",
    "    Implies(Not(mary), ann),\n",
    "    Implies(ann, Not(john)),\n",
    ")\n",
    "\n",
    "print(s.check())\n",
    "# Check satisfiability\n",
    "if s.check() == sat:\n",
    "    # Print model\n",
    "    m = s.model()\n",
    "    print(f\"john = {m[john]}, mary = {m[mary]}, ann = {m[ann]}\")"
   ]
  },
  {
   "cell_type": "markdown",
   "id": "84b49c26",
   "metadata": {
    "slideshow": {
     "slide_type": "slide"
    }
   },
   "source": [
    "## Exercise 2\n",
    "\n",
    "Suppose that liars always speak what is false, and truth-tellers always speak what is true. Further suppose that Amy, Bob, and Cal are each either a liar or truth-teller. Amy says, “Bob is a liar.” Bob says, “Cal is a liar.” Cal says, “Amy and Bob are liars.” Which, if any, of these people are truth-tellers?\n",
    "\n",
    "(Neller, Markov, Russel. Clue Deduction: Professor Plum Teaches Logic (2016))"
   ]
  },
  {
   "cell_type": "code",
   "execution_count": 25,
   "id": "695f19d5",
   "metadata": {
    "slideshow": {
     "slide_type": "slide"
    }
   },
   "outputs": [
    {
     "name": "stdout",
     "output_type": "stream",
     "text": [
      "a = False, b = True, c = False\n"
     ]
    }
   ],
   "source": [
    "s = Solver()\n",
    "\n",
    "# Create some propositional variables\n",
    "a = Bool('a') # Ann is a truth-teller\n",
    "b = Bool('b') # Bob is a truth-teller\n",
    "c = Bool('c') # Cal is a truth-teller\n",
    "\n",
    "\n",
    "s.add(\n",
    "    # Add constraints\n",
    "    # Amy says, “Bob is a liar.”\n",
    "    Implies(Not(b), a),\n",
    "    Implies(a, Not(b)),\n",
    "\n",
    "    #Bob says, “Cal is a liar.”\n",
    "    Implies(Not(c), b),\n",
    "    Implies(b, Not(c)),\n",
    "\n",
    "    # Cal says, “Amy and Bob are liars.”\n",
    "    Implies(And(Not(a), Not(b)), c),\n",
    "    Implies(c, And(Not(a), Not(b))),\n",
    ")\n",
    "\n",
    "# Check satisfiability\n",
    "if s.check() == sat:\n",
    "    # Print model\n",
    "    m = s.model()\n",
    "    print(f\"a = {m[a]}, b = {m[b]}, c = {m[c]}\")\n",
    "else: print('there are no solutions' )    "
   ]
  },
  {
   "cell_type": "markdown",
   "id": "43cbee0d",
   "metadata": {
    "slideshow": {
     "slide_type": "slide"
    }
   },
   "source": [
    "There are another possible solution?"
   ]
  },
  {
   "cell_type": "code",
   "execution_count": 26,
   "id": "bbbd9281",
   "metadata": {
    "slideshow": {
     "slide_type": "subslide"
    }
   },
   "outputs": [],
   "source": [
    "s.add ( Not(b) )"
   ]
  },
  {
   "cell_type": "code",
   "execution_count": 27,
   "id": "96d407e6",
   "metadata": {},
   "outputs": [
    {
     "name": "stdout",
     "output_type": "stream",
     "text": [
      "there are no solutions\n"
     ]
    }
   ],
   "source": [
    "\n",
    "# Check satisfiability\n",
    "if s.check() == sat:\n",
    "    # Print model\n",
    "    m = s.model()\n",
    "    print(f\"a = {m[a]}, b = {m[b]}, c = {m[c]}\")\n",
    "else: print('there are no solutions' )    "
   ]
  },
  {
   "cell_type": "markdown",
   "id": "95af18e2",
   "metadata": {
    "slideshow": {
     "slide_type": "slide"
    }
   },
   "source": [
    "# 2- SMT -- satisfiability modulo theories \n",
    "## quantified free formulas with other theories\n"
   ]
  },
  {
   "cell_type": "markdown",
   "id": "4f90b5e0",
   "metadata": {
    "slideshow": {
     "slide_type": "slide"
    }
   },
   "source": [
    "We can now deal with a number of theories, including with numerical domains. "
   ]
  },
  {
   "cell_type": "markdown",
   "id": "02c6c317",
   "metadata": {
    "slideshow": {
     "slide_type": "slide"
    }
   },
   "source": [
    "## Example -- playing with integers\n",
    "Define integer variables and setup a model:"
   ]
  },
  {
   "cell_type": "code",
   "execution_count": 28,
   "id": "9e101fb5",
   "metadata": {},
   "outputs": [],
   "source": [
    "x = Int('x')\n",
    "y = Int('y')\n",
    "s = Solver()"
   ]
  },
  {
   "cell_type": "markdown",
   "id": "eec7c990",
   "metadata": {},
   "source": [
    "Then we include our constraints (e.g. check if there is an integer solution to $x+y=3$)"
   ]
  },
  {
   "cell_type": "code",
   "execution_count": 29,
   "id": "6415739a",
   "metadata": {},
   "outputs": [
    {
     "name": "stdout",
     "output_type": "stream",
     "text": [
      "[y = 0, x = 3]\n"
     ]
    }
   ],
   "source": [
    "s.add(x+y == 3)\n",
    "if s.check() == sat:\n",
    "    m = s.model()\n",
    "    print(s.model())\n",
    "else: print ('unsat')    "
   ]
  },
  {
   "cell_type": "markdown",
   "id": "c2304869",
   "metadata": {
    "slideshow": {
     "slide_type": "slide"
    }
   },
   "source": [
    "## Exercise: prove that the solution is not unique"
   ]
  },
  {
   "cell_type": "code",
   "execution_count": 30,
   "id": "4a98be90",
   "metadata": {
    "slideshow": {
     "slide_type": "fragment"
    }
   },
   "outputs": [],
   "source": [
    "s.add(x!=3)"
   ]
  },
  {
   "cell_type": "code",
   "execution_count": 31,
   "id": "1dbefd61",
   "metadata": {},
   "outputs": [
    {
     "name": "stdout",
     "output_type": "stream",
     "text": [
      "[x = 0, y = 3]\n"
     ]
    }
   ],
   "source": [
    "\n",
    "#check satisfaction and print the model\n",
    "if s.check() == sat:\n",
    "    m = s.model()\n",
    "    print(s.model())\n",
    "else: print ('unsat')"
   ]
  },
  {
   "cell_type": "markdown",
   "id": "128e2576",
   "metadata": {
    "slideshow": {
     "slide_type": "slide"
    }
   },
   "source": [
    "# Example -- playing with reals\n",
    "Define real variables and setup a model:\n"
   ]
  },
  {
   "cell_type": "code",
   "execution_count": 32,
   "id": "18f2f0c0",
   "metadata": {},
   "outputs": [],
   "source": [
    "x = Real('x')\n",
    "y = Real('y')\n",
    "\n",
    "s = Solver()"
   ]
  },
  {
   "cell_type": "markdown",
   "id": "98b532f0",
   "metadata": {},
   "source": [
    "then we can use z3 to solve equations. For instance, to solve $x^2 +2x =1$: "
   ]
  },
  {
   "cell_type": "code",
   "execution_count": 33,
   "id": "70f7ad67",
   "metadata": {},
   "outputs": [],
   "source": [
    "s.add(x**2 + 2 * x == 1 )"
   ]
  },
  {
   "cell_type": "code",
   "execution_count": 34,
   "id": "f06bd0f1",
   "metadata": {},
   "outputs": [
    {
     "name": "stdout",
     "output_type": "stream",
     "text": [
      "[x = -2.4142135623?]\n"
     ]
    }
   ],
   "source": [
    "if s.check() == sat:\n",
    "    m = s.model()\n",
    "    print(s.model())\n"
   ]
  },
  {
   "cell_type": "markdown",
   "id": "af2a74e8",
   "metadata": {
    "slideshow": {
     "slide_type": "slide"
    }
   },
   "source": [
    "## Exercise: Calculate the roots of $x^3+3x^2+4x+2=0$ and prove that the root is unique"
   ]
  },
  {
   "cell_type": "markdown",
   "id": "35f37901",
   "metadata": {
    "slideshow": {
     "slide_type": "fragment"
    }
   },
   "source": [
    "Firstly, let us solve the equation"
   ]
  },
  {
   "cell_type": "code",
   "execution_count": 41,
   "id": "11772a92",
   "metadata": {
    "slideshow": {
     "slide_type": "fragment"
    }
   },
   "outputs": [],
   "source": [
    "x = Real('x')\n",
    "s = Solver()\n",
    "s.add(x**3 + 3*x**2 + 4*x + 2 == 0)\n",
    "\n"
   ]
  },
  {
   "cell_type": "code",
   "execution_count": 42,
   "id": "b64dab5f",
   "metadata": {},
   "outputs": [
    {
     "name": "stdout",
     "output_type": "stream",
     "text": [
      "[x = -1]\n"
     ]
    }
   ],
   "source": [
    "if s.check() == sat:\n",
    "    m = s.model()\n",
    "    print(s.model())\n",
    "else: \n",
    "    print(\"Unsat\")"
   ]
  },
  {
   "cell_type": "markdown",
   "id": "70996324",
   "metadata": {
    "slideshow": {
     "slide_type": "slide"
    }
   },
   "source": [
    "Then, let us show that it is unique:"
   ]
  },
  {
   "cell_type": "code",
   "execution_count": 43,
   "id": "f896a369",
   "metadata": {
    "slideshow": {
     "slide_type": "fragment"
    }
   },
   "outputs": [],
   "source": [
    "s.add(x!=-1)"
   ]
  },
  {
   "cell_type": "code",
   "execution_count": 44,
   "id": "eb6ee209",
   "metadata": {},
   "outputs": [
    {
     "data": {
      "text/html": [
       "<b>unsat</b>"
      ],
      "text/plain": [
       "unsat"
      ]
     },
     "execution_count": 44,
     "metadata": {},
     "output_type": "execute_result"
    }
   ],
   "source": [
    "s.check()"
   ]
  },
  {
   "cell_type": "markdown",
   "id": "423cfa86",
   "metadata": {
    "slideshow": {
     "slide_type": "slide"
    }
   },
   "source": [
    "# Playing with z3"
   ]
  },
  {
   "cell_type": "markdown",
   "id": "bafb6355",
   "metadata": {
    "slideshow": {
     "slide_type": "slide"
    }
   },
   "source": [
    "# 8 Queens puzzle\n",
    "The 8 queens problem is a classic problem in computer science where the goal is to place 8 queens on a chessboard in such a way that no two queens can attack each other."
   ]
  },
  {
   "cell_type": "markdown",
   "id": "7aef0c5b",
   "metadata": {
    "slideshow": {
     "slide_type": "slide"
    }
   },
   "source": [
    "## Implementation 1:"
   ]
  },
  {
   "cell_type": "code",
   "execution_count": 45,
   "id": "a2981af4",
   "metadata": {
    "slideshow": {
     "slide_type": "skip"
    }
   },
   "outputs": [],
   "source": [
    "from z3 import *\n"
   ]
  },
  {
   "cell_type": "markdown",
   "id": "1120c347",
   "metadata": {},
   "source": [
    "We know each queen must be in a different row.\n",
    " So, we represent each queen by a single integer: the column position"
   ]
  },
  {
   "cell_type": "code",
   "execution_count": 46,
   "id": "bb135f0e",
   "metadata": {},
   "outputs": [
    {
     "name": "stdout",
     "output_type": "stream",
     "text": [
      "[Q_1, Q_2, Q_3, Q_4, Q_5, Q_6, Q_7, Q_8]\n"
     ]
    }
   ],
   "source": [
    "Q = [ Int('Q_%i' % (i + 1)) for i in range(8) ]\n",
    "print(Q)"
   ]
  },
  {
   "cell_type": "markdown",
   "id": "eac8270a",
   "metadata": {
    "slideshow": {
     "slide_type": "slide"
    }
   },
   "source": [
    "Each queen is in a column {1, ... 8 }"
   ]
  },
  {
   "cell_type": "code",
   "execution_count": 47,
   "id": "7a5ff008",
   "metadata": {},
   "outputs": [],
   "source": [
    "val_c = [ And(1 <= Q[i], Q[i] <= 8) for i in range(8) ]\n"
   ]
  },
  {
   "cell_type": "markdown",
   "id": "c4c89467",
   "metadata": {
    "slideshow": {
     "slide_type": "slide"
    }
   },
   "source": [
    "At most one queen per column"
   ]
  },
  {
   "cell_type": "code",
   "execution_count": 49,
   "id": "cc885845",
   "metadata": {},
   "outputs": [],
   "source": [
    "col_c = [ Distinct(Q) ]\n"
   ]
  },
  {
   "cell_type": "markdown",
   "id": "be683930",
   "metadata": {
    "slideshow": {
     "slide_type": "slide"
    }
   },
   "source": [
    "Diagonal constraint:\n"
   ]
  },
  {
   "cell_type": "code",
   "execution_count": 50,
   "id": "8361307d",
   "metadata": {},
   "outputs": [],
   "source": [
    "diag_c = [ If(i == j,\n",
    "              True,\n",
    "              And(Q[i] - Q[j] != i - j, Q[i] - Q[j] != j - i))\n",
    "           for i in range(8) for j in range(i) ]\n"
   ]
  },
  {
   "cell_type": "markdown",
   "id": "bfb46fca",
   "metadata": {
    "slideshow": {
     "slide_type": "slide"
    }
   },
   "source": [
    "A solution for the puzzle:"
   ]
  },
  {
   "cell_type": "code",
   "execution_count": 51,
   "id": "c2de8c0d",
   "metadata": {},
   "outputs": [
    {
     "name": "stdout",
     "output_type": "stream",
     "text": [
      "[Q_3 = 8,\n",
      " Q_1 = 4,\n",
      " Q_7 = 5,\n",
      " Q_8 = 7,\n",
      " Q_5 = 1,\n",
      " Q_4 = 6,\n",
      " Q_2 = 2,\n",
      " Q_6 = 3]\n"
     ]
    }
   ],
   "source": [
    "solve(val_c + col_c + diag_c)"
   ]
  },
  {
   "cell_type": "markdown",
   "id": "58ef7151",
   "metadata": {
    "slideshow": {
     "slide_type": "slide"
    }
   },
   "source": [
    "## Implementation 2"
   ]
  },
  {
   "cell_type": "code",
   "execution_count": 52,
   "id": "e5f85530",
   "metadata": {
    "slideshow": {
     "slide_type": "skip"
    }
   },
   "outputs": [],
   "source": [
    "from z3 import *"
   ]
  },
  {
   "cell_type": "markdown",
   "id": "a5c22bab",
   "metadata": {
    "slideshow": {
     "slide_type": "slide"
    }
   },
   "source": [
    "We consider a variable for each position\n",
    "\n",
    "- $x[i][j]==1$ if``there is a queen at position $(i,j)$\n",
    "- $x[i][j]==0$ if``there is not a queen at position $(i,j)$\n"
   ]
  },
  {
   "cell_type": "code",
   "execution_count": 53,
   "id": "2d20304e",
   "metadata": {},
   "outputs": [],
   "source": [
    "X = [[Int(\"x_%s_%s\" % (i+1, j+1)) for j in range(8)] for i in range(8) ]\n",
    "\n",
    "cells_c = [Or(X[i][j] == 0, X[i][j] == 1) for i in range(8) for j in range(8) ]\n"
   ]
  },
  {
   "cell_type": "markdown",
   "id": "e3108939",
   "metadata": {
    "slideshow": {
     "slide_type": "slide"
    }
   },
   "source": [
    "Constraint 1: there is exactly one queen per row"
   ]
  },
  {
   "cell_type": "code",
   "execution_count": 54,
   "id": "569b1fe3",
   "metadata": {},
   "outputs": [],
   "source": [
    "rows_c = Sum(X[i]) == 1 for i in range(8)]"
   ]
  },
  {
   "cell_type": "markdown",
   "id": "e9d5d504",
   "metadata": {
    "slideshow": {
     "slide_type": "slide"
    }
   },
   "source": [
    "Constraint 2: there is exactly one queen per column"
   ]
  },
  {
   "cell_type": "code",
   "execution_count": 55,
   "id": "3c5aa136",
   "metadata": {},
   "outputs": [],
   "source": [
    "cols_c = [Sum([X[i][j] for i in range(8)]) == 1 for j in range(8) ]"
   ]
  },
  {
   "cell_type": "markdown",
   "id": "14cd3e6c",
   "metadata": {
    "slideshow": {
     "slide_type": "slide"
    }
   },
   "source": [
    "Constraint 3: there is exactly one queen per diagonal"
   ]
  },
  {
   "cell_type": "code",
   "execution_count": 56,
   "id": "91dc9ec3",
   "metadata": {},
   "outputs": [],
   "source": [
    "diagonals_c = [Implies(And(X[i][j] == 1, X[k][h] == 1,\n",
    "            i != k, j != h), abs(k - i) != abs(j - h))\n",
    "            for i in range(8) for j in range(8) \n",
    "            for k in range(8) for h in range(8)]\n"
   ]
  },
  {
   "cell_type": "markdown",
   "id": "78beb4f3",
   "metadata": {
    "slideshow": {
     "slide_type": "slide"
    }
   },
   "source": [
    "Setup the model and check:"
   ]
  },
  {
   "cell_type": "code",
   "execution_count": 57,
   "id": "e2dc48dd",
   "metadata": {},
   "outputs": [
    {
     "name": "stdout",
     "output_type": "stream",
     "text": [
      "[[0, 0, 0, 0, 0, 0, 1, 0],\n",
      " [0, 0, 0, 1, 0, 0, 0, 0],\n",
      " [0, 1, 0, 0, 0, 0, 0, 0],\n",
      " [0, 0, 0, 0, 1, 0, 0, 0],\n",
      " [0, 0, 0, 0, 0, 0, 0, 1],\n",
      " [1, 0, 0, 0, 0, 0, 0, 0],\n",
      " [0, 0, 1, 0, 0, 0, 0, 0],\n",
      " [0, 0, 0, 0, 0, 1, 0, 0]]\n"
     ]
    }
   ],
   "source": [
    "eight_queens_c = cells_c + rows_c + cols_c + diagonals_c\n",
    "\n",
    "s = Solver()\n",
    "s.add(eight_queens_c)\n",
    "if s.check() == sat:\n",
    "    m = s.model()\n",
    "    r = [[m.evaluate(X[i][j]) for j in range(8)] for i in range(8)]\n",
    "    print_matrix(r)\n",
    "else:\n",
    "    print (\"failed to solve\")"
   ]
  },
  {
   "cell_type": "markdown",
   "id": "24a103f3",
   "metadata": {},
   "source": [
    "## Some interesting links about z3\n",
    "\n",
    "\n",
    "\n",
    "Programming Z3 - https://theory.stanford.edu/~nikolaj/programmingz3.html\n",
    "Nikolaj Bjorner's tutorial https://youtu.be/nGwyNmsxX6I\n",
    "Hakank's examples http://www.hakank.org/z3/\n",
    "Yurichev's book \"SMT by Example\" https://yurichev.com/writings/SAT_SMT_by_example.pdf\n"
   ]
  },
  {
   "cell_type": "code",
   "execution_count": null,
   "id": "3dcf1058",
   "metadata": {},
   "outputs": [],
   "source": []
  }
 ],
 "metadata": {
  "kernelspec": {
   "display_name": "Python 3",
   "language": "python",
   "name": "python3"
  },
  "language_info": {
   "codemirror_mode": {
    "name": "ipython",
    "version": 3
   },
   "file_extension": ".py",
   "mimetype": "text/x-python",
   "name": "python",
   "nbconvert_exporter": "python",
   "pygments_lexer": "ipython3",
   "version": "3.10.8 (main, Nov 15 2022, 05:25:54) [Clang 14.0.0 (clang-1400.0.29.202)]"
  },
  "latex_envs": {
   "LaTeX_envs_menu_present": true,
   "autoclose": false,
   "autocomplete": true,
   "bibliofile": "biblio.bib",
   "cite_by": "apalike",
   "current_citInitial": 1,
   "eqLabelWithNumbers": true,
   "eqNumInitial": 1,
   "hotkeys": {
    "equation": "Ctrl-E",
    "itemize": "Ctrl-I"
   },
   "labels_anchors": false,
   "latex_user_defs": false,
   "report_style_numbering": false,
   "user_envs_cfg": false
  },
  "vscode": {
   "interpreter": {
    "hash": "aee8b7b246df8f9039afb4144a1f6fd8d2ca17a180786b69acc140d282b71a49"
   }
  }
 },
 "nbformat": 4,
 "nbformat_minor": 5
}
