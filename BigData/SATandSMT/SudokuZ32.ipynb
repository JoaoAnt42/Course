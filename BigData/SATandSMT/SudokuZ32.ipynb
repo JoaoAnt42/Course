{
 "cells": [
  {
   "cell_type": "markdown",
   "id": "b9fd795f",
   "metadata": {},
   "source": [
    "# Solving a Sudoku puzzle with z3\n"
   ]
  },
  {
   "cell_type": "code",
   "execution_count": 62,
   "id": "f057eeca",
   "metadata": {},
   "outputs": [
    {
     "name": "stdout",
     "output_type": "stream",
     "text": [
      "Requirement already satisfied: z3-solver in /Users/joaoantonio/Documents/Course/env/lib/python3.10/site-packages (4.11.2.0)\n"
     ]
    }
   ],
   "source": [
    "!pip install z3-solver\n",
    "from z3 import *"
   ]
  },
  {
   "cell_type": "markdown",
   "id": "46741b61",
   "metadata": {},
   "source": [
    "Create an Integer Variable for each cell of the Sudoku grid:"
   ]
  },
  {
   "cell_type": "code",
   "execution_count": 63,
   "id": "7f8ba059",
   "metadata": {},
   "outputs": [],
   "source": [
    "X = [[Int(f\"x_{i + 1}_{j + 1}\") for j in range(9)] for i in range(9)]"
   ]
  },
  {
   "cell_type": "code",
   "execution_count": 64,
   "id": "8902cf61",
   "metadata": {},
   "outputs": [
    {
     "data": {
      "text/plain": [
       "[[x_1_1, x_1_2, x_1_3, x_1_4, x_1_5, x_1_6, x_1_7, x_1_8, x_1_9],\n",
       " [x_2_1, x_2_2, x_2_3, x_2_4, x_2_5, x_2_6, x_2_7, x_2_8, x_2_9],\n",
       " [x_3_1, x_3_2, x_3_3, x_3_4, x_3_5, x_3_6, x_3_7, x_3_8, x_3_9],\n",
       " [x_4_1, x_4_2, x_4_3, x_4_4, x_4_5, x_4_6, x_4_7, x_4_8, x_4_9],\n",
       " [x_5_1, x_5_2, x_5_3, x_5_4, x_5_5, x_5_6, x_5_7, x_5_8, x_5_9],\n",
       " [x_6_1, x_6_2, x_6_3, x_6_4, x_6_5, x_6_6, x_6_7, x_6_8, x_6_9],\n",
       " [x_7_1, x_7_2, x_7_3, x_7_4, x_7_5, x_7_6, x_7_7, x_7_8, x_7_9],\n",
       " [x_8_1, x_8_2, x_8_3, x_8_4, x_8_5, x_8_6, x_8_7, x_8_8, x_8_9],\n",
       " [x_9_1, x_9_2, x_9_3, x_9_4, x_9_5, x_9_6, x_9_7, x_9_8, x_9_9]]"
      ]
     },
     "execution_count": 64,
     "metadata": {},
     "output_type": "execute_result"
    }
   ],
   "source": [
    "X"
   ]
  },
  {
   "cell_type": "markdown",
   "id": "1c3b84c4",
   "metadata": {},
   "source": [
    "Requirement 1: each cell must contain a digit (1 to 9)"
   ]
  },
  {
   "cell_type": "code",
   "execution_count": 65,
   "id": "1d458b55",
   "metadata": {},
   "outputs": [],
   "source": [
    "cells_c  = [And(X[i][j] > 0, X[i][j] < 10) for i in range(9) for j in range(9) ]"
   ]
  },
  {
   "cell_type": "markdown",
   "id": "7e1ff7ee",
   "metadata": {},
   "source": [
    "Requirement 2: Every digit has to be placed exactly once in each row:"
   ]
  },
  {
   "cell_type": "code",
   "execution_count": 67,
   "id": "62f0dc24",
   "metadata": {},
   "outputs": [],
   "source": [
    "rows_c   = [ Distinct([ X[i][j0] \n",
    "                        for i in range(9)]) \n",
    "            for j0 in range(9) ]"
   ]
  },
  {
   "cell_type": "markdown",
   "id": "e2bff629",
   "metadata": {},
   "source": [
    "Requirement 3: Every digit has to be placed exactly once in each row:"
   ]
  },
  {
   "cell_type": "code",
   "execution_count": 68,
   "id": "f2fc5fb3",
   "metadata": {},
   "outputs": [],
   "source": [
    "cols_c   = [ Distinct([ X[i0][j] \n",
    "                        for j in range(9)]) \n",
    "             for i0 in range(9)]"
   ]
  },
  {
   "cell_type": "markdown",
   "id": "de8b4451",
   "metadata": {},
   "source": [
    "Requirement 4: Every digit has to be placed exactly once in each $3 \\times 3$ subgrid"
   ]
  },
  {
   "cell_type": "code",
   "execution_count": 69,
   "id": "b7ae825e",
   "metadata": {},
   "outputs": [],
   "source": [
    "sq_c     = [ Distinct([ X[3*i0 + i][3*j0 + j] \n",
    "                        for i in range(3) for j in range(3) ]) \n",
    "             for i0 in range(3) for j0 in range(3) ]"
   ]
  },
  {
   "cell_type": "markdown",
   "id": "e0476c54",
   "metadata": {},
   "source": [
    "Now, put all the requirements together"
   ]
  },
  {
   "cell_type": "code",
   "execution_count": 70,
   "id": "90f8ae99",
   "metadata": {},
   "outputs": [],
   "source": [
    "sudoku_c = cells_c + rows_c + cols_c + sq_c"
   ]
  },
  {
   "cell_type": "markdown",
   "id": "f38aaaa3",
   "metadata": {},
   "source": [
    "and consider some concrete puzzle:"
   ]
  },
  {
   "cell_type": "code",
   "execution_count": 71,
   "id": "48607319",
   "metadata": {},
   "outputs": [],
   "source": [
    "instance = ((5,3,0,0,7,0,0,0,0),\n",
    "            (6,0,0,1,9,5,0,0,0),\n",
    "            (0,9,8,0,0,0,0,6,0),\n",
    "            (8,0,0,0,6,0,0,0,3),\n",
    "            (4,0,0,8,0,3,0,0,1),\n",
    "            (7,0,0,0,2,0,0,0,6),\n",
    "            (0,6,0,0,0,0,2,8,0),\n",
    "            (0,0,0,4,1,9,0,0,5),\n",
    "            (0,0,0,0,8,0,0,7,9))"
   ]
  },
  {
   "cell_type": "markdown",
   "id": "d37b3905",
   "metadata": {},
   "source": [
    "and push the filled spaces and a requirement:"
   ]
  },
  {
   "cell_type": "code",
   "execution_count": 72,
   "id": "90535cdf",
   "metadata": {},
   "outputs": [],
   "source": [
    "instance_c = [ If(instance[i][j] == 0, \n",
    "                  True, \n",
    "                  X[i][j] == instance[i][j]) \n",
    "               for i in range(9) for j in range(9) ]"
   ]
  },
  {
   "cell_type": "markdown",
   "id": "dcf9159d",
   "metadata": {},
   "source": [
    "Build a z3 specification: "
   ]
  },
  {
   "cell_type": "code",
   "execution_count": 73,
   "id": "95f3fe23",
   "metadata": {},
   "outputs": [],
   "source": [
    "s = Solver()                                            # (1)\n",
    "s.add(sudoku_c + instance_c)                            # (2)\n"
   ]
  },
  {
   "cell_type": "markdown",
   "id": "6939d565",
   "metadata": {},
   "source": [
    "Check its satisfability:"
   ]
  },
  {
   "cell_type": "code",
   "execution_count": 74,
   "id": "5f7d959f",
   "metadata": {},
   "outputs": [
    {
     "data": {
      "text/html": [
       "<b>sat</b>"
      ],
      "text/plain": [
       "sat"
      ]
     },
     "execution_count": 74,
     "metadata": {},
     "output_type": "execute_result"
    }
   ],
   "source": [
    "s.check()"
   ]
  },
  {
   "cell_type": "markdown",
   "id": "a172f9ba",
   "metadata": {},
   "source": [
    "Print the solution (if sat):"
   ]
  },
  {
   "cell_type": "code",
   "execution_count": 75,
   "id": "ba4eb48b",
   "metadata": {},
   "outputs": [
    {
     "name": "stdout",
     "output_type": "stream",
     "text": [
      "[[5, 3, 4, 6, 7, 8, 9, 1, 2],\n",
      " [6, 7, 2, 1, 9, 5, 3, 4, 8],\n",
      " [1, 9, 8, 3, 4, 2, 5, 6, 7],\n",
      " [8, 5, 9, 7, 6, 1, 4, 2, 3],\n",
      " [4, 2, 6, 8, 5, 3, 7, 9, 1],\n",
      " [7, 1, 3, 9, 2, 4, 8, 5, 6],\n",
      " [9, 6, 1, 5, 3, 7, 2, 8, 4],\n",
      " [2, 8, 7, 4, 1, 9, 6, 3, 5],\n",
      " [3, 4, 5, 2, 8, 6, 1, 7, 9]]\n"
     ]
    }
   ],
   "source": [
    "if s.check() == sat:                                    # (3)\n",
    "    m = s.model()                                       # (4)\n",
    "    r = [ [ m.evaluate(X[i][j]) for j in range(9) ]     # (5)\n",
    "          for i in range(9) ]\n",
    "    print_matrix(r)                                     # (6)\n",
    "else:\n",
    "    print(\"failed to solve\")        "
   ]
  },
  {
   "cell_type": "markdown",
   "id": "366edb44",
   "metadata": {},
   "source": [
    "# Exercise\n",
    "\n",
    "Prepare your z3 model to solve generic sudokus, i.e. puzzles with sizes $k^2 \\times k^2$, where $k$ is the number of different digits involved.\n",
    "\n"
   ]
  },
  {
   "cell_type": "markdown",
   "id": "156cb529",
   "metadata": {},
   "source": [
    "Then, apply it to solve the following puzzles of sizes $2^2 \\times 2^2$, $3^2 \\times 3^2$ and $4^2 \\times 4^2$\n"
   ]
  },
  {
   "cell_type": "code",
   "execution_count": 76,
   "id": "28b542c3",
   "metadata": {},
   "outputs": [],
   "source": [
    "instance2 = ((1,0,0,0),\n",
    "             (0,2,0,0),\n",
    "             (0,0,3,0),\n",
    "             (0,0,0,4))"
   ]
  },
  {
   "cell_type": "code",
   "execution_count": 77,
   "id": "2f94b813",
   "metadata": {},
   "outputs": [],
   "source": [
    "instance3 = ((5,3,0,0,7,0,0,0,0),\n",
    "            (6,0,0,1,9,5,0,0,0),\n",
    "            (0,9,8,0,0,0,0,6,0),\n",
    "            (8,0,0,0,6,0,0,0,3),\n",
    "            (4,0,0,8,0,3,0,0,1),\n",
    "            (7,0,0,0,2,0,0,0,6),\n",
    "            (0,6,0,0,0,0,2,8,0),\n",
    "            (0,0,0,4,1,9,0,0,5),\n",
    "            (0,0,0,0,8,0,0,7,9))"
   ]
  },
  {
   "cell_type": "code",
   "execution_count": 78,
   "id": "1102828e",
   "metadata": {},
   "outputs": [],
   "source": [
    "instance4=((15,0,1,0,0,3,0,0,0,0,0,0,0,0,0,0),\n",
    "           (0,0,0,0,0,0,0,0,0,0,0,0,0,0,0,0),\n",
    "           (0,0,0,0,0,0,0,0,0,0,0,0,0,0,0,0),\n",
    "           (0,0,0,0,0,0,0,0,0,0,0,0,0,0,0,0),\n",
    "           (0,0,0,0,0,0,0,0,0,0,0,0,0,0,0,0),\n",
    "           (0,0,0,0,0,0,0,0,0,0,0,0,0,0,0,0),\n",
    "           (0,0,0,0,0,0,0,0,0,0,0,0,0,0,0,0),\n",
    "           (0,0,0,0,0,0,0,0,0,0,0,0,0,0,0,0),\n",
    "           (0,0,0,0,0,0,0,0,0,0,0,0,0,0,0,0),\n",
    "           (0,0,0,0,0,0,0,0,0,0,0,0,0,0,0,0),\n",
    "           (0,0,0,0,0,0,0,0,0,0,0,0,0,0,0,0),\n",
    "           (0,0,0,0,0,0,0,0,0,0,0,0,0,0,0,0),\n",
    "           (0,0,0,0,0,0,0,0,0,0,0,0,0,0,0,0),\n",
    "           (0,0,0,0,0,0,0,0,0,0,0,0,0,0,0,0),\n",
    "           (0,0,0,0,0,0,0,0,0,0,0,0,0,0,0,0),\n",
    "           (0,0,0,0,0,0,0,0,0,0,0,0,0,0,0,0))"
   ]
  },
  {
   "cell_type": "code",
   "execution_count": null,
   "id": "efaaeff2",
   "metadata": {},
   "outputs": [],
   "source": []
  }
 ],
 "metadata": {
  "kernelspec": {
   "display_name": "env",
   "language": "python",
   "name": "python3"
  },
  "language_info": {
   "codemirror_mode": {
    "name": "ipython",
    "version": 3
   },
   "file_extension": ".py",
   "mimetype": "text/x-python",
   "name": "python",
   "nbconvert_exporter": "python",
   "pygments_lexer": "ipython3",
   "version": "3.10.8"
  },
  "latex_envs": {
   "LaTeX_envs_menu_present": true,
   "autoclose": false,
   "autocomplete": true,
   "bibliofile": "biblio.bib",
   "cite_by": "apalike",
   "current_citInitial": 1,
   "eqLabelWithNumbers": true,
   "eqNumInitial": 1,
   "hotkeys": {
    "equation": "Ctrl-E",
    "itemize": "Ctrl-I"
   },
   "labels_anchors": false,
   "latex_user_defs": false,
   "report_style_numbering": false,
   "user_envs_cfg": false
  },
  "vscode": {
   "interpreter": {
    "hash": "f18d617e669ee35a7f185d37fc55d21f049c179882078864793ae90604ebabf7"
   }
  }
 },
 "nbformat": 4,
 "nbformat_minor": 5
}
