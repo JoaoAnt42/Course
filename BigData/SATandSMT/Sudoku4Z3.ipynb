{
 "cells": [
  {
   "cell_type": "markdown",
   "id": "b9fd795f",
   "metadata": {},
   "source": [
    "# Solving a Sudoku puzzle with z3\n"
   ]
  },
  {
   "cell_type": "code",
   "execution_count": 19,
   "id": "f057eeca",
   "metadata": {},
   "outputs": [
    {
     "name": "stdout",
     "output_type": "stream",
     "text": [
      "Requirement already satisfied: z3-solver in /Users/joaoantonio/Documents/Course/env/lib/python3.10/site-packages (4.11.2.0)\n"
     ]
    }
   ],
   "source": [
    "!pip install z3-solver\n",
    "from z3 import *"
   ]
  },
  {
   "cell_type": "markdown",
   "id": "46741b61",
   "metadata": {},
   "source": [
    "Create an Integer Variable for each cell of the Sudoku grid:"
   ]
  },
  {
   "cell_type": "code",
   "execution_count": 20,
   "id": "d76751ed",
   "metadata": {},
   "outputs": [],
   "source": [
    "k = 5\n",
    "k2 = k ** 2"
   ]
  },
  {
   "cell_type": "code",
   "execution_count": 21,
   "id": "7f8ba059",
   "metadata": {},
   "outputs": [],
   "source": [
    "X = [[Int(f\"x_{i + 1}_{j + 1}\") for j in range(k2)] for i in range(k2)]"
   ]
  },
  {
   "attachments": {},
   "cell_type": "markdown",
   "id": "1c3b84c4",
   "metadata": {},
   "source": [
    "Requirement 1: each cell must contain a digit (1 to k2)"
   ]
  },
  {
   "cell_type": "code",
   "execution_count": 22,
   "id": "1d458b55",
   "metadata": {},
   "outputs": [],
   "source": [
    "cells_c  = [And(X[i][j] >= 1, X[i][j] <= k2) for i in range(k2) for j in range(k2) ]"
   ]
  },
  {
   "cell_type": "markdown",
   "id": "7e1ff7ee",
   "metadata": {},
   "source": [
    "Requirement 2: Every digit has to be placed exactly once in each row:"
   ]
  },
  {
   "cell_type": "code",
   "execution_count": 23,
   "id": "62f0dc24",
   "metadata": {},
   "outputs": [],
   "source": [
    "rows_c   = [ Distinct([ X[i][j0] \n",
    "                        for i in range(k2)]) \n",
    "            for j0 in range(k2) ]"
   ]
  },
  {
   "cell_type": "markdown",
   "id": "e2bff629",
   "metadata": {},
   "source": [
    "Requirement 3: Every digit has to be placed exactly once in each row:"
   ]
  },
  {
   "cell_type": "code",
   "execution_count": 24,
   "id": "f2fc5fb3",
   "metadata": {},
   "outputs": [],
   "source": [
    "cols_c   = [ Distinct([ X[i0][j] \n",
    "                        for j in range(k2)]) \n",
    "             for i0 in range(k2)]"
   ]
  },
  {
   "cell_type": "markdown",
   "id": "de8b4451",
   "metadata": {},
   "source": [
    "Requirement 4: Every digit has to be placed exactly once in each $3 \\times 3$ subgrid"
   ]
  },
  {
   "cell_type": "code",
   "execution_count": 25,
   "id": "b7ae825e",
   "metadata": {},
   "outputs": [],
   "source": [
    "sq_c     = [ Distinct([ X[k*i0 + i][k*j0 + j] \n",
    "                        for i in range(k) for j in range(k) ]) \n",
    "             for i0 in range(k) for j0 in range(k) ]"
   ]
  },
  {
   "cell_type": "markdown",
   "id": "e0476c54",
   "metadata": {},
   "source": [
    "Now, put all the requirements together"
   ]
  },
  {
   "cell_type": "code",
   "execution_count": 26,
   "id": "90f8ae99",
   "metadata": {},
   "outputs": [],
   "source": [
    "sudoku_c = cells_c + rows_c + cols_c + sq_c"
   ]
  },
  {
   "cell_type": "markdown",
   "id": "f38aaaa3",
   "metadata": {},
   "source": [
    "and consider some concrete puzzle:"
   ]
  },
  {
   "cell_type": "code",
   "execution_count": 27,
   "id": "48607319",
   "metadata": {},
   "outputs": [],
   "source": [
    "instance = [[0] * k2] * k2\n"
   ]
  },
  {
   "cell_type": "code",
   "execution_count": 28,
   "id": "54e83a4f",
   "metadata": {},
   "outputs": [
    {
     "data": {
      "text/plain": [
       "[[0, 0, 0, 0, 0, 0, 0, 0, 0, 0, 0, 0, 0, 0, 0, 0, 0, 0, 0, 0, 0, 0, 0, 0, 0],\n",
       " [0, 0, 0, 0, 0, 0, 0, 0, 0, 0, 0, 0, 0, 0, 0, 0, 0, 0, 0, 0, 0, 0, 0, 0, 0],\n",
       " [0, 0, 0, 0, 0, 0, 0, 0, 0, 0, 0, 0, 0, 0, 0, 0, 0, 0, 0, 0, 0, 0, 0, 0, 0],\n",
       " [0, 0, 0, 0, 0, 0, 0, 0, 0, 0, 0, 0, 0, 0, 0, 0, 0, 0, 0, 0, 0, 0, 0, 0, 0],\n",
       " [0, 0, 0, 0, 0, 0, 0, 0, 0, 0, 0, 0, 0, 0, 0, 0, 0, 0, 0, 0, 0, 0, 0, 0, 0],\n",
       " [0, 0, 0, 0, 0, 0, 0, 0, 0, 0, 0, 0, 0, 0, 0, 0, 0, 0, 0, 0, 0, 0, 0, 0, 0],\n",
       " [0, 0, 0, 0, 0, 0, 0, 0, 0, 0, 0, 0, 0, 0, 0, 0, 0, 0, 0, 0, 0, 0, 0, 0, 0],\n",
       " [0, 0, 0, 0, 0, 0, 0, 0, 0, 0, 0, 0, 0, 0, 0, 0, 0, 0, 0, 0, 0, 0, 0, 0, 0],\n",
       " [0, 0, 0, 0, 0, 0, 0, 0, 0, 0, 0, 0, 0, 0, 0, 0, 0, 0, 0, 0, 0, 0, 0, 0, 0],\n",
       " [0, 0, 0, 0, 0, 0, 0, 0, 0, 0, 0, 0, 0, 0, 0, 0, 0, 0, 0, 0, 0, 0, 0, 0, 0],\n",
       " [0, 0, 0, 0, 0, 0, 0, 0, 0, 0, 0, 0, 0, 0, 0, 0, 0, 0, 0, 0, 0, 0, 0, 0, 0],\n",
       " [0, 0, 0, 0, 0, 0, 0, 0, 0, 0, 0, 0, 0, 0, 0, 0, 0, 0, 0, 0, 0, 0, 0, 0, 0],\n",
       " [0, 0, 0, 0, 0, 0, 0, 0, 0, 0, 0, 0, 0, 0, 0, 0, 0, 0, 0, 0, 0, 0, 0, 0, 0],\n",
       " [0, 0, 0, 0, 0, 0, 0, 0, 0, 0, 0, 0, 0, 0, 0, 0, 0, 0, 0, 0, 0, 0, 0, 0, 0],\n",
       " [0, 0, 0, 0, 0, 0, 0, 0, 0, 0, 0, 0, 0, 0, 0, 0, 0, 0, 0, 0, 0, 0, 0, 0, 0],\n",
       " [0, 0, 0, 0, 0, 0, 0, 0, 0, 0, 0, 0, 0, 0, 0, 0, 0, 0, 0, 0, 0, 0, 0, 0, 0],\n",
       " [0, 0, 0, 0, 0, 0, 0, 0, 0, 0, 0, 0, 0, 0, 0, 0, 0, 0, 0, 0, 0, 0, 0, 0, 0],\n",
       " [0, 0, 0, 0, 0, 0, 0, 0, 0, 0, 0, 0, 0, 0, 0, 0, 0, 0, 0, 0, 0, 0, 0, 0, 0],\n",
       " [0, 0, 0, 0, 0, 0, 0, 0, 0, 0, 0, 0, 0, 0, 0, 0, 0, 0, 0, 0, 0, 0, 0, 0, 0],\n",
       " [0, 0, 0, 0, 0, 0, 0, 0, 0, 0, 0, 0, 0, 0, 0, 0, 0, 0, 0, 0, 0, 0, 0, 0, 0],\n",
       " [0, 0, 0, 0, 0, 0, 0, 0, 0, 0, 0, 0, 0, 0, 0, 0, 0, 0, 0, 0, 0, 0, 0, 0, 0],\n",
       " [0, 0, 0, 0, 0, 0, 0, 0, 0, 0, 0, 0, 0, 0, 0, 0, 0, 0, 0, 0, 0, 0, 0, 0, 0],\n",
       " [0, 0, 0, 0, 0, 0, 0, 0, 0, 0, 0, 0, 0, 0, 0, 0, 0, 0, 0, 0, 0, 0, 0, 0, 0],\n",
       " [0, 0, 0, 0, 0, 0, 0, 0, 0, 0, 0, 0, 0, 0, 0, 0, 0, 0, 0, 0, 0, 0, 0, 0, 0],\n",
       " [0, 0, 0, 0, 0, 0, 0, 0, 0, 0, 0, 0, 0, 0, 0, 0, 0, 0, 0, 0, 0, 0, 0, 0, 0]]"
      ]
     },
     "execution_count": 28,
     "metadata": {},
     "output_type": "execute_result"
    }
   ],
   "source": [
    "instance"
   ]
  },
  {
   "cell_type": "markdown",
   "id": "d37b3905",
   "metadata": {},
   "source": [
    "and push the filled spaces and a requirement:"
   ]
  },
  {
   "cell_type": "code",
   "execution_count": 29,
   "id": "90535cdf",
   "metadata": {},
   "outputs": [],
   "source": [
    "instance_c = [ If(instance[i][j] == 0, \n",
    "                  True, \n",
    "                  X[i][j] == instance[i][j]) \n",
    "               for i in range(16) for j in range(16) ]"
   ]
  },
  {
   "cell_type": "markdown",
   "id": "dcf9159d",
   "metadata": {},
   "source": [
    "Build a z3 specification: "
   ]
  },
  {
   "cell_type": "code",
   "execution_count": 30,
   "id": "95f3fe23",
   "metadata": {},
   "outputs": [],
   "source": [
    "s = Solver()                                            # (1)\n",
    "s.add(sudoku_c + instance_c)                            # (2)\n"
   ]
  },
  {
   "cell_type": "markdown",
   "id": "6939d565",
   "metadata": {},
   "source": [
    "Check its satisfability:"
   ]
  },
  {
   "cell_type": "code",
   "execution_count": 31,
   "id": "5f7d959f",
   "metadata": {},
   "outputs": [
    {
     "data": {
      "text/html": [
       "<b>sat</b>"
      ],
      "text/plain": [
       "sat"
      ]
     },
     "execution_count": 31,
     "metadata": {},
     "output_type": "execute_result"
    }
   ],
   "source": [
    "s.check()"
   ]
  },
  {
   "cell_type": "markdown",
   "id": "a172f9ba",
   "metadata": {},
   "source": [
    "Print the solution (if sat):"
   ]
  },
  {
   "cell_type": "code",
   "execution_count": 32,
   "id": "ba4eb48b",
   "metadata": {},
   "outputs": [
    {
     "name": "stdout",
     "output_type": "stream",
     "text": [
      "[21,\n",
      " 10,\n",
      " 25,\n",
      " 23,\n",
      " 19,\n",
      " 13,\n",
      " 7,\n",
      " 11,\n",
      " 14,\n",
      " 20,\n",
      " 9,\n",
      " 8,\n",
      " 5,\n",
      " 12,\n",
      " 3,\n",
      " 1,\n",
      " 17,\n",
      " 18,\n",
      " 16,\n",
      " 2,\n",
      " 6,\n",
      " 4,\n",
      " 24,\n",
      " 15,\n",
      " 22]\n"
     ]
    }
   ],
   "source": [
    "if s.check() == sat:                                    # (3)\n",
    "    m = s.model()                                       # (4)\n",
    "    r = [ [ m.evaluate(X[i][j]) for j in range(k2) ]     # (5)\n",
    "          for i in range(k2) ]\n",
    "    print_matrix(r[0])                                     # (6)\n",
    "else:\n",
    "    print(\"failed to solve\")        "
   ]
  },
  {
   "cell_type": "markdown",
   "id": "366edb44",
   "metadata": {},
   "source": [
    "# Exercise\n",
    "\n",
    "Prepare your z3 model to solve generic sudokus, i.e. puzzles with sizes $k^2 \\times k^2$, where $k$ is the number of different digits involved.\n",
    "\n"
   ]
  },
  {
   "cell_type": "markdown",
   "id": "156cb529",
   "metadata": {},
   "source": [
    "Then, apply it to solve the following puzzles of sizes $2^2 \\times 2^2$, $3^2 \\times 3^2$ and $4^2 \\times 4^2$\n"
   ]
  },
  {
   "cell_type": "code",
   "execution_count": 33,
   "id": "28b542c3",
   "metadata": {},
   "outputs": [],
   "source": [
    "instance2 = ((1,0,0,0),\n",
    "             (0,2,0,0),\n",
    "             (0,0,3,0),\n",
    "             (0,0,0,4))"
   ]
  },
  {
   "cell_type": "code",
   "execution_count": 34,
   "id": "2f94b813",
   "metadata": {},
   "outputs": [],
   "source": [
    "instance3 = ((5,3,0,0,7,0,0,0,0),\n",
    "            (6,0,0,1,k2,5,0,0,0),\n",
    "            (0,k2,8,0,0,0,0,6,0),\n",
    "            (8,0,0,0,6,0,0,0,3),\n",
    "            (4,0,0,8,0,3,0,0,1),\n",
    "            (7,0,0,0,2,0,0,0,6),\n",
    "            (0,6,0,0,0,0,2,8,0),\n",
    "            (0,0,0,4,1,k2,0,0,5),\n",
    "            (0,0,0,0,8,0,0,7,k2))"
   ]
  },
  {
   "cell_type": "code",
   "execution_count": 35,
   "id": "1102828e",
   "metadata": {},
   "outputs": [],
   "source": [
    "instance4=((15,0,1,0,0,3,0,0,0,0,0,0,0,0,0,0),\n",
    "           (0,0,0,0,0,0,0,0,0,0,0,0,0,0,0,0),\n",
    "           (0,0,0,0,0,0,0,0,0,0,0,0,0,0,0,0),\n",
    "           (0,0,0,0,0,0,0,0,0,0,0,0,0,0,0,0),\n",
    "           (0,0,0,0,0,0,0,0,0,0,0,0,0,0,0,0),\n",
    "           (0,0,0,0,0,0,0,0,0,0,0,0,0,0,0,0),\n",
    "           (0,0,0,0,0,0,0,0,0,0,0,0,0,0,0,0),\n",
    "           (0,0,0,0,0,0,0,0,0,0,0,0,0,0,0,0),\n",
    "           (0,0,0,0,0,0,0,0,0,0,0,0,0,0,0,0),\n",
    "           (0,0,0,0,0,0,0,0,0,0,0,0,0,0,0,0),\n",
    "           (0,0,0,0,0,0,0,0,0,0,0,0,0,0,0,0),\n",
    "           (0,0,0,0,0,0,0,0,0,0,0,0,0,0,0,0),\n",
    "           (0,0,0,0,0,0,0,0,0,0,0,0,0,0,0,0),\n",
    "           (0,0,0,0,0,0,0,0,0,0,0,0,0,0,0,0),\n",
    "           (0,0,0,0,0,0,0,0,0,0,0,0,0,0,0,0),\n",
    "           (0,0,0,0,0,0,0,0,0,0,0,0,0,0,0,0))"
   ]
  },
  {
   "cell_type": "code",
   "execution_count": null,
   "id": "efaaeff2",
   "metadata": {},
   "outputs": [],
   "source": []
  }
 ],
 "metadata": {
  "kernelspec": {
   "display_name": "env",
   "language": "python",
   "name": "python3"
  },
  "language_info": {
   "codemirror_mode": {
    "name": "ipython",
    "version": 3
   },
   "file_extension": ".py",
   "mimetype": "text/x-python",
   "name": "python",
   "nbconvert_exporter": "python",
   "pygments_lexer": "ipython3",
   "version": "3.10.8 (main, Nov 15 2022, 05:25:54) [Clang 14.0.0 (clang-1400.0.29.202)]"
  },
  "latex_envs": {
   "LaTeX_envs_menu_present": true,
   "autoclose": false,
   "autocomplete": true,
   "bibliofile": "biblio.bib",
   "cite_by": "apalike",
   "current_citInitial": 1,
   "eqLabelWithNumbers": true,
   "eqNumInitial": 1,
   "hotkeys": {
    "equation": "Ctrl-E",
    "itemize": "Ctrl-I"
   },
   "labels_anchors": false,
   "latex_user_defs": false,
   "report_style_numbering": false,
   "user_envs_cfg": false
  },
  "vscode": {
   "interpreter": {
    "hash": "f18d617e669ee35a7f185d37fc55d21f049c179882078864793ae90604ebabf7"
   }
  }
 },
 "nbformat": 4,
 "nbformat_minor": 5
}
