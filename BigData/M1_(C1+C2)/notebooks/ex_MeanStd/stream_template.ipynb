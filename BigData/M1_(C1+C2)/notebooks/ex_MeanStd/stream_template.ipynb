{
 "cells": [
  {
   "cell_type": "markdown",
   "metadata": {},
   "source": [
    "# Classical and Streaming Algorithms Templates"
   ]
  },
  {
   "cell_type": "code",
   "execution_count": 2,
   "metadata": {},
   "outputs": [
    {
     "name": "stdout",
     "output_type": "stream",
     "text": [
      "\n",
      "-- Generating the stream\n",
      ":generating randomly with 10000 elements between -10 and 10\n",
      "\n",
      "-- classicalAlg\n"
     ]
    },
    {
     "ename": "NameError",
     "evalue": "name 'x' is not defined",
     "output_type": "error",
     "traceback": [
      "\u001b[0;31m---------------------------------------------------------------------------\u001b[0m",
      "\u001b[0;31mNameError\u001b[0m                                 Traceback (most recent call last)",
      "\u001b[1;32m/Users/joaoantonio/Documents/BigData/M1_(C1+C2)/notebooks/ex_MeanStd/stream_template.ipynb Cell 2\u001b[0m in \u001b[0;36m<cell line: 36>\u001b[0;34m()\u001b[0m\n\u001b[1;32m     <a href='vscode-notebook-cell:/Users/joaoantonio/Documents/BigData/M1_%28C1%2BC2%29/notebooks/ex_MeanStd/stream_template.ipynb#W1sZmlsZQ%3D%3D?line=31'>32</a>\u001b[0m     \u001b[39m# result variables\u001b[39;00m\n\u001b[1;32m     <a href='vscode-notebook-cell:/Users/joaoantonio/Documents/BigData/M1_%28C1%2BC2%29/notebooks/ex_MeanStd/stream_template.ipynb#W1sZmlsZQ%3D%3D?line=33'>34</a>\u001b[0m     \u001b[39mreturn\u001b[39;00m memory\n\u001b[0;32m---> <a href='vscode-notebook-cell:/Users/joaoantonio/Documents/BigData/M1_%28C1%2BC2%29/notebooks/ex_MeanStd/stream_template.ipynb#W1sZmlsZQ%3D%3D?line=35'>36</a>\u001b[0m ss \u001b[39m=\u001b[39m SimulateStream(N\u001b[39m=\u001b[39;49m\u001b[39m10000\u001b[39;49m, \u001b[39mmin\u001b[39;49m\u001b[39m=\u001b[39;49m\u001b[39m-\u001b[39;49m\u001b[39m10\u001b[39;49m, \u001b[39mmax\u001b[39;49m\u001b[39m=\u001b[39;49m\u001b[39m10\u001b[39;49m, classicalAlg\u001b[39m=\u001b[39;49mclassicalAlg,streamAlg_init\u001b[39m=\u001b[39;49mstreamAlg_init, streamAlg_run\u001b[39m=\u001b[39;49mstreamAlg_run)\n\u001b[1;32m     <a href='vscode-notebook-cell:/Users/joaoantonio/Documents/BigData/M1_%28C1%2BC2%29/notebooks/ex_MeanStd/stream_template.ipynb#W1sZmlsZQ%3D%3D?line=37'>38</a>\u001b[0m ss\u001b[39m.\u001b[39mcompare(\u001b[39m'\u001b[39m\u001b[39mmean\u001b[39m\u001b[39m'\u001b[39m)\n",
      "File \u001b[0;32m~/Documents/BigData/M1_(C1+C2)/notebooks/ex_MeanStd/libs/simulateStream.py:24\u001b[0m, in \u001b[0;36mSimulateStream.__init__\u001b[0;34m(self, N, outliers, outliersBarrier, min, max, classicalAlg, streamAlg_init, streamAlg_run)\u001b[0m\n\u001b[1;32m     21\u001b[0m \u001b[39mprint\u001b[39m(\u001b[39mf\u001b[39m\u001b[39m'\u001b[39m\u001b[39m:generating randomly with \u001b[39m\u001b[39m{\u001b[39;00mN\u001b[39m}\u001b[39;00m\u001b[39m elements between \u001b[39m\u001b[39m{\u001b[39;00m\u001b[39mmin\u001b[39m\u001b[39m}\u001b[39;00m\u001b[39m and \u001b[39m\u001b[39m{\u001b[39;00m\u001b[39mmax\u001b[39m\u001b[39m}\u001b[39;00m\u001b[39m'\u001b[39m)\n\u001b[1;32m     23\u001b[0m \u001b[39mprint\u001b[39m(); \u001b[39mprint\u001b[39m(\u001b[39mf\u001b[39m\u001b[39m'\u001b[39m\u001b[39m-- classicalAlg\u001b[39m\u001b[39m'\u001b[39m)\n\u001b[0;32m---> 24\u001b[0m \u001b[39mself\u001b[39m\u001b[39m.\u001b[39mmemory1 \u001b[39m=\u001b[39m classicalAlg(\u001b[39mself\u001b[39;49m\u001b[39m.\u001b[39;49mstream)\n\u001b[1;32m     25\u001b[0m \u001b[39mprint\u001b[39m(\u001b[39mf\u001b[39m\u001b[39m'\u001b[39m\u001b[39m:memory = \u001b[39m\u001b[39m{\u001b[39;00m\u001b[39mself\u001b[39m\u001b[39m.\u001b[39mmemory1\u001b[39m}\u001b[39;00m\u001b[39m'\u001b[39m)\n\u001b[1;32m     27\u001b[0m \u001b[39mprint\u001b[39m(); \u001b[39mprint\u001b[39m(\u001b[39mf\u001b[39m\u001b[39m'\u001b[39m\u001b[39m-- streamAlg\u001b[39m\u001b[39m'\u001b[39m)\n",
      "\u001b[1;32m/Users/joaoantonio/Documents/BigData/M1_(C1+C2)/notebooks/ex_MeanStd/stream_template.ipynb Cell 2\u001b[0m in \u001b[0;36mclassicalAlg\u001b[0;34m(stream)\u001b[0m\n\u001b[1;32m      <a href='vscode-notebook-cell:/Users/joaoantonio/Documents/BigData/M1_%28C1%2BC2%29/notebooks/ex_MeanStd/stream_template.ipynb#W1sZmlsZQ%3D%3D?line=8'>9</a>\u001b[0m memory[\u001b[39m'\u001b[39m\u001b[39mmean\u001b[39m\u001b[39m'\u001b[39m] \u001b[39m=\u001b[39m \u001b[39msum\u001b[39m(stream)\u001b[39m/\u001b[39m\u001b[39mlen\u001b[39m(stream)\n\u001b[1;32m     <a href='vscode-notebook-cell:/Users/joaoantonio/Documents/BigData/M1_%28C1%2BC2%29/notebooks/ex_MeanStd/stream_template.ipynb#W1sZmlsZQ%3D%3D?line=9'>10</a>\u001b[0m mean1 \u001b[39m=\u001b[39m memory[\u001b[39m'\u001b[39m\u001b[39mmean\u001b[39m\u001b[39m'\u001b[39m]\n\u001b[0;32m---> <a href='vscode-notebook-cell:/Users/joaoantonio/Documents/BigData/M1_%28C1%2BC2%29/notebooks/ex_MeanStd/stream_template.ipynb#W1sZmlsZQ%3D%3D?line=10'>11</a>\u001b[0m memory[\u001b[39m'\u001b[39m\u001b[39mstd\u001b[39m\u001b[39m'\u001b[39m] \u001b[39m=\u001b[39m ((mean1\u001b[39m-\u001b[39mx)\u001b[39m*\u001b[39m\u001b[39m*\u001b[39m\u001b[39m2\u001b[39m\u001b[39m/\u001b[39m\u001b[39mlen\u001b[39m(stream))\u001b[39m*\u001b[39m\u001b[39m*\u001b[39m\u001b[39m0.5\u001b[39m\n\u001b[1;32m     <a href='vscode-notebook-cell:/Users/joaoantonio/Documents/BigData/M1_%28C1%2BC2%29/notebooks/ex_MeanStd/stream_template.ipynb#W1sZmlsZQ%3D%3D?line=12'>13</a>\u001b[0m \u001b[39mreturn\u001b[39;00m memory\n",
      "\u001b[0;31mNameError\u001b[0m: name 'x' is not defined"
     ]
    }
   ],
   "source": [
    "from libs.simulateStream import *\n",
    "\n",
    "## THE CLASSICAL ALGORITHM THAT YOU SHOULD IMPLEMENT\n",
    "\n",
    "def classicalAlg(stream):\n",
    "    memory = {}\n",
    "    ## add the results as key value to the dictionary\n",
    "\n",
    "    memory['mean'] = sum(stream)/len(stream)\n",
    "    mean1 = memory['mean']\n",
    "    memory['std'] = None\n",
    "\n",
    "    return memory\n",
    "\n",
    "## THE STREAMMING ALGORITHM THAT YOU SHOULD IMPLEMENT\n",
    "\n",
    "def streamAlg_init(memory):\n",
    "\n",
    "    # internal variables\n",
    "    \n",
    "    # result variables\n",
    "\n",
    "    return memory\n",
    "\n",
    "def streamAlg_run(memory, x):\n",
    "\n",
    "    # internal variables\n",
    "\n",
    "    # result variables\n",
    "\n",
    "    return memory\n",
    "\n",
    "ss = SimulateStream(N=10000, min=-10, max=10, classicalAlg=classicalAlg,streamAlg_init=streamAlg_init, streamAlg_run=streamAlg_run)\n",
    "\n",
    "ss.compare('mean')"
   ]
  },
  {
   "cell_type": "code",
   "execution_count": null,
   "metadata": {},
   "outputs": [],
   "source": []
  },
  {
   "cell_type": "code",
   "execution_count": null,
   "metadata": {},
   "outputs": [],
   "source": []
  }
 ],
 "metadata": {
  "kernelspec": {
   "display_name": "Python 3.10.6 64-bit ('3.10.6')",
   "language": "python",
   "name": "python3"
  },
  "language_info": {
   "codemirror_mode": {
    "name": "ipython",
    "version": 3
   },
   "file_extension": ".py",
   "mimetype": "text/x-python",
   "name": "python",
   "nbconvert_exporter": "python",
   "pygments_lexer": "ipython3",
   "version": "3.10.6"
  },
  "orig_nbformat": 4,
  "vscode": {
   "interpreter": {
    "hash": "fdb8eddac791e5cc4cca5e18a1b3eafedcf7aa5af29b2654a17d29223ea8cc92"
   }
  }
 },
 "nbformat": 4,
 "nbformat_minor": 2
}
