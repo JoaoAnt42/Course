{
 "cells": [
  {
   "cell_type": "code",
   "execution_count": null,
   "metadata": {},
   "outputs": [],
   "source": [
    "sigma = [4, 5, 10, 7, 3, 2, 1, 8]"
   ]
  },
  {
   "cell_type": "code",
   "execution_count": null,
   "metadata": {},
   "outputs": [],
   "source": [
    "sum_squares = 0\n",
    "sum_values = 0\n",
    "for k, x in enumerate(sigma):\n",
    "    sum_values += x\n",
    "    mean = sum_values/k\n",
    "    sum_squares += (sum_squares/k)**(1/2)"
   ]
  }
 ],
 "metadata": {
  "kernelspec": {
   "display_name": "Python 3.10.6 64-bit ('3.10.6')",
   "language": "python",
   "name": "python3"
  },
  "language_info": {
   "name": "python",
   "version": "3.10.6"
  },
  "orig_nbformat": 4,
  "vscode": {
   "interpreter": {
    "hash": "fdb8eddac791e5cc4cca5e18a1b3eafedcf7aa5af29b2654a17d29223ea8cc92"
   }
  }
 },
 "nbformat": 4,
 "nbformat_minor": 2
}
