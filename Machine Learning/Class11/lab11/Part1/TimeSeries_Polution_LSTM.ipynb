{
 "cells": [
  {
   "cell_type": "markdown",
   "metadata": {},
   "source": [
    "# Lab  - LSTM for Air Polution Forecasting\n",
    "\n",
    "\n",
    "\n",
    "**Objectives**: Apply Long Short-Term Memory (LSTM) Recurrent Neural Network (RNN) for \n",
    "Multivariate Time Series Forecasting. \n",
    "\n",
    "**The forecasting problem**: Air Quality dataset reports on the weather and the level of pollution each hour over 5 years at the US embassy in Beijing, China. Given the weather conditions and pollution for prior hours, forecast the pollution at the next hour.\n",
    "\n",
    "Data includes the date-time, the pollution called PM2.5 concentration, and the weather information including dew point, temperature, pressure, wind direction, wind speed and the cumulative number of hours of snow and rain. The complete list of data is as follows:\n",
    "\n",
    "**Total data**: 43800 samples (5 years x 365 days x 24 hours), 8 features.\n",
    "\n",
    "**year-month-day-hour**: date of data in this row\n",
    "\n",
    "**pm2.5**: PM2.5 concentration  (**pollution indicator => the predicted variable**) \n",
    "\n",
    "**DEWP**: Dew Point (DewP indicates the amount moisture in the air. The higher the dewP, the higher the moisture content of the air at a given temperature.\n",
    "\n",
    "**TEM**P: Temperature\n",
    "\n",
    "**PRES**: Pressure\n",
    "\n",
    "**cbwd**: Combined wind direction (categorical feature, 4 values, e.g. Sought-East (SE))\n",
    "\n",
    "**Iws**: Cumulated wind speed\n",
    "\n",
    "**Is**: Cumulated hours of snow\n",
    "\n",
    "**Ir**: Cumulated hours of rain"
   ]
  },
  {
   "cell_type": "code",
   "execution_count": 98,
   "metadata": {},
   "outputs": [],
   "source": [
    "import warnings\n",
    "warnings.filterwarnings('ignore',category=FutureWarning)\n",
    "warnings.filterwarnings('ignore',category=RuntimeWarning)\n",
    "\n",
    "import numpy as np\n",
    "from numpy import concatenate\n",
    "from matplotlib import pyplot\n",
    "from pandas import read_csv\n",
    "from pandas import DataFrame\n",
    "from pandas import concat\n",
    "from sklearn.preprocessing import MinMaxScaler\n",
    "from sklearn.preprocessing import LabelEncoder\n",
    "from sklearn.metrics import mean_squared_error\n",
    "from keras.models import Sequential\n",
    "from keras.layers import Dense\n",
    "from keras.layers import LSTM"
   ]
  },
  {
   "cell_type": "markdown",
   "metadata": {},
   "source": [
    "## Load Data\n",
    "Use function *read_csv* to load data from file pollution.csv and create the structure dataset. \n",
    "Then, extract only the values of the structure and ignore the column with the date. "
   ]
  },
  {
   "cell_type": "code",
   "execution_count": 99,
   "metadata": {},
   "outputs": [],
   "source": [
    "\n",
    "dataset =  read_csv(\"pollution.csv\")\n",
    "# dataset\n",
    "values = dataset.iloc[: , 1:].values"
   ]
  },
  {
   "cell_type": "markdown",
   "metadata": {},
   "source": [
    "## Plot Data\n",
    "Plot the data and get a figure similar to Fig.1 \n",
    "<img src=\"images/f1.png\" style=\"width:350px;height:250px;\">\n",
    "<caption><center> **Fig. 1** : ** Pollution & Weather Time series dataset** </center></caption>"
   ]
  },
  {
   "cell_type": "code",
   "execution_count": 100,
   "metadata": {},
   "outputs": [],
   "source": [
    "# import matplotlib.pyplot as plt\n",
    "# fig, axes = plt.subplots(nrows=4, ncols=2)\n",
    "# k2 = 0\n",
    "# for k in values.columns:\n",
    "#     if k != \"wnd_dir\":\n",
    "#         values[k].plot(ax=axes[k2])\n"
   ]
  },
  {
   "cell_type": "markdown",
   "metadata": {},
   "source": [
    "## LSTM Data Preparation\n",
    "Prepare the dataset for the LSTM, that is, frame the dataset as a supervised learning problem to predict the pollution (pm2.5) at the current or future hours given the past pollution and weather conditions over a number of prior time steps (hours).\n",
    "\n",
    "\n",
    "**Original data frame (each row has data of only that hour)** :\n",
    "\n",
    "row 1=> var1(t), var2(t),...var8(t)\n",
    "\n",
    "row 2=> var1(t-1), var2(t-1),...var8(t)\n",
    "\n",
    "row 3=> .....\n",
    "\n",
    "**After series_to_supervised (each row has data of n previous hours and the current hour)**:\n",
    "\n",
    "\n",
    "row 1=> var1(t-n), var2(t-n),...var8(t-n), var1(t-n+1), var2(t-n+1),...var8(t-n+1), .....var1(t), var3(t),...var8(t)\n",
    "\n",
    "row 2=> var1(t-n-1), var2(t-n-1),...var8(t-n-1), var1(t-1), var3(t-1),...var8(t-1)\n",
    "\n",
    "row 3 => ...\n",
    "\n",
    "\n"
   ]
  },
  {
   "cell_type": "code",
   "execution_count": 101,
   "metadata": {},
   "outputs": [],
   "source": [
    "# convert series to supervised learning\n",
    "def series_to_supervised(data, n_in=1, n_out=1, dropnan=True):\n",
    "    \"\"\"\n",
    "        data: data matrix\n",
    "        n_in: number of input lag timesteps (hours)\n",
    "        n_out: number of output prediction timesteps (hours)\n",
    " \n",
    "    \"\"\"\n",
    "        \n",
    "    n_vars = 1 if type(data) is list else data.shape[1]\n",
    "    df = DataFrame(data)  #transforms data (pure matrix of values) into data structure adding index of rows and columns\n",
    "    cols, names = [], []\n",
    "    # input sequence (t-n, ... t-1)\n",
    "    for i in range(n_in, 0, -1):\n",
    "        cols.append(df.shift(i))\n",
    "        names += [('var%d(t-%d)' % (j+1, i)) for j in range(n_vars)]\n",
    "    # forecast sequence (t, t+1, ... t+n)\n",
    "    for i in range(n_out):\n",
    "        cols.append(df.shift(-i))\n",
    "        if i == 0:\n",
    "            names += [('var%d(t)' % (j+1)) for j in range(n_vars)]\n",
    "        else:\n",
    "            names += [('var%d(t+%d)' % (j+1, i)) for j in range(n_vars)]\n",
    "    # put it all together\n",
    "    agg = concat(cols, axis=1)\n",
    "    agg.columns = names\n",
    "    # drop rows with NaN values\n",
    "    if dropnan:\n",
    "        agg.dropna(inplace=True)\n",
    "    return agg\n",
    " "
   ]
  },
  {
   "cell_type": "code",
   "execution_count": 102,
   "metadata": {},
   "outputs": [
    {
     "data": {
      "text/plain": [
       "(43800, 8)"
      ]
     },
     "execution_count": 102,
     "metadata": {},
     "output_type": "execute_result"
    }
   ],
   "source": [
    "scaled.shape"
   ]
  },
  {
   "cell_type": "code",
   "execution_count": 103,
   "metadata": {},
   "outputs": [
    {
     "name": "stdout",
     "output_type": "stream",
     "text": [
      "   var1(t-3)  var2(t-3)  var3(t-3)  var4(t-3)  var5(t-3)  var6(t-3)  \\\n",
      "3   0.129779   0.352941   0.245902   0.527273   0.666667   0.002290   \n",
      "4   0.148893   0.367647   0.245902   0.527273   0.666667   0.003811   \n",
      "5   0.159960   0.426471   0.229508   0.545454   0.666667   0.005332   \n",
      "\n",
      "   var7(t-3)  var8(t-3)  var1(t-2)  var2(t-2)  ...  var8(t-2)  var1(t-1)  \\\n",
      "3        0.0        0.0   0.148893   0.367647  ...        0.0   0.159960   \n",
      "4        0.0        0.0   0.159960   0.426471  ...        0.0   0.182093   \n",
      "5        0.0        0.0   0.182093   0.485294  ...        0.0   0.138833   \n",
      "\n",
      "   var2(t-1)  var3(t-1)  var4(t-1)  var5(t-1)  var6(t-1)  var7(t-1)  \\\n",
      "3   0.426471   0.229508   0.545454   0.666667   0.005332   0.000000   \n",
      "4   0.485294   0.229508   0.563637   0.666667   0.008391   0.037037   \n",
      "5   0.485294   0.229508   0.563637   0.666667   0.009912   0.074074   \n",
      "\n",
      "   var8(t-1)   var1(t)  \n",
      "3        0.0  0.182093  \n",
      "4        0.0  0.138833  \n",
      "5        0.0  0.109658  \n",
      "\n",
      "[3 rows x 25 columns]\n"
     ]
    }
   ],
   "source": [
    "# encode the categorical feature cbwd: Combined wind direction (4 categorical values) into integers (0,1,2,3)\n",
    "\n",
    "encoder = LabelEncoder()\n",
    "values[:,4] = encoder.fit_transform(values[:,4]) # transform the 5th column into integers 0,1,2,3\n",
    "\n",
    "# ensure all data is float\n",
    "values = values.astype('float32')\n",
    "\n",
    "# normalize features\n",
    "scaler = MinMaxScaler(feature_range=(0, 1))\n",
    "scaled = scaler.fit_transform(values)  #apply scaler to the values \n",
    "\n",
    "\n",
    "# specify the number of lag hours. You can change this hyper-parameter\n",
    "n_hours = 3\n",
    "\n",
    "# call series_to_supervised to frame data as supervised learning\n",
    "reframed = series_to_supervised(scaled, n_in=n_hours, n_out=1, dropnan=True)\n",
    "\n",
    "# print(reframed.head(3))\n",
    "\n",
    "# we want to predict only the feature pm2.5 =var1(t)\n",
    "# Take out the columns of var2(t), var3(t),...var8(t). The indexes below are correct if n_hours = 3\n",
    "reframed.drop(reframed.columns[[31,30, 29, 28, 27, 26, 25]], axis=1, inplace=True)\n",
    "\n",
    "#Observe the difference before and after the drop step \n",
    "print(reframed.head(3))"
   ]
  },
  {
   "cell_type": "markdown",
   "metadata": {},
   "source": [
    "## Split Data\n",
    "\n",
    "First, data is split into train and test subsets. To speed up the model fiting, the training data is only the \n",
    "1st year, the test data are the remaining 4 years. You may consider exploring the oposite. \n",
    "\n",
    "Then the train and test sets are split into input and output variables. \n",
    "\n",
    "Finally, the inputs (X) are reshaped into 3D format expected by LSTMs, namely [samples, timesteps, features].\n",
    "\n",
    "**Total data**: 43800 samples (5 years x 365 days x 24 hours), 8 features.\n",
    "\n",
    "**Train data**: 3D tensor(samples, timesteps, features).\n",
    "8760 samples:  Data from 1 year (365 days), 24 times per day (1h period).\n",
    "\n",
    "**Test data**: 3D tensor (samples, timesteps, features). The rest of 35037 samples. "
   ]
  },
  {
   "cell_type": "code",
   "execution_count": 104,
   "metadata": {},
   "outputs": [
    {
     "data": {
      "text/plain": [
       "(8760, 3, 8)"
      ]
     },
     "execution_count": 104,
     "metadata": {},
     "output_type": "execute_result"
    }
   ],
   "source": [
    "train_X.shape"
   ]
  },
  {
   "cell_type": "code",
   "execution_count": 105,
   "metadata": {},
   "outputs": [],
   "source": [
    "# split into train and test sets\n",
    "\n",
    "# reframed is a structure that has not only values but also heads and row indixes. Extract only the values \n",
    "n_features =  values.shape[1]  #number of features \n",
    "values = reframed.values\n",
    "n_train_hours = 365 * 24  #8760 (1 year, 24 times per day, i.e. period 1h)\n",
    "n_hours_total = values.shape[0]\n",
    "\n",
    "#Extract training subset from values \n",
    "train = values[:n_train_hours, :]\n",
    "\n",
    "#Extract test subset from values \n",
    "test = values[n_train_hours:, :]\n",
    "\n",
    "# split into input and outputs\n",
    "\n",
    "\n",
    "n_obs = n_hours * n_features  # 3*8 =24\n",
    "\n",
    "train_X  = train[:, :-1]   # train_X.shape = (8760, 24)\n",
    "train_y = train[:, -1]  # train_y.shape = (8760,)\n",
    "\n",
    "test_X  =  test[:, :-1]      # test_X.shape = (35037, 24)\n",
    "test_y =  test[:, -1] # test_y.shape = (35037,)\n",
    "\n",
    "# reshape input to be 3D [samples, lag_hours, features]\n",
    "train_X = train_X.reshape(train_X.shape[0], n_hours, n_features) # train_X.shape=(8760,3,8)\n",
    "test_X =  test_X.reshape(test_X.shape[0], n_hours, n_features)  # test_X.shape=(35037,3,8)\n"
   ]
  },
  {
   "cell_type": "code",
   "execution_count": 111,
   "metadata": {},
   "outputs": [
    {
     "data": {
      "text/plain": [
       "(35037,)"
      ]
     },
     "execution_count": 111,
     "metadata": {},
     "output_type": "execute_result"
    }
   ],
   "source": [
    "test_y.shape"
   ]
  },
  {
   "cell_type": "code",
   "execution_count": 110,
   "metadata": {},
   "outputs": [
    {
     "data": {
      "text/plain": [
       "(8760,)"
      ]
     },
     "execution_count": 110,
     "metadata": {},
     "output_type": "execute_result"
    }
   ],
   "source": [
    "train_y.shape"
   ]
  },
  {
   "cell_type": "code",
   "execution_count": 106,
   "metadata": {},
   "outputs": [
    {
     "data": {
      "text/plain": [
       "(8760, 3, 8)"
      ]
     },
     "execution_count": 106,
     "metadata": {},
     "output_type": "execute_result"
    }
   ],
   "source": [
    "train_X.shape"
   ]
  },
  {
   "cell_type": "code",
   "execution_count": 108,
   "metadata": {},
   "outputs": [
    {
     "data": {
      "text/plain": [
       "(35037, 3, 8)"
      ]
     },
     "execution_count": 108,
     "metadata": {},
     "output_type": "execute_result"
    }
   ],
   "source": [
    "test_X.shape"
   ]
  },
  {
   "cell_type": "markdown",
   "metadata": {},
   "source": [
    "## Define and Fit Model\n",
    "\n",
    "In this section, we define and fit an LSTM on the multivariate input data.\n",
    "We define the LSTM with 50 neurons in the first hidden layer and 1 neuron in the output layer for predicting pollution.\n",
    "We use the Mean Absolute Error (MAE) loss function and the Adam version of stochastic gradient descent.\n",
    "The model will be fit for 50 training epochs with a batch size of 72. \n",
    "At the end of the run both the training and test loss are plotted."
   ]
  },
  {
   "cell_type": "code",
   "execution_count": 112,
   "metadata": {},
   "outputs": [
    {
     "name": "stdout",
     "output_type": "stream",
     "text": [
      "Epoch 1/50\n",
      "122/122 - 4s - loss: 0.0432 - val_loss: 0.0344 - 4s/epoch - 36ms/step\n",
      "Epoch 2/50\n",
      "122/122 - 1s - loss: 0.0236 - val_loss: 0.0321 - 851ms/epoch - 7ms/step\n",
      "Epoch 3/50\n",
      "122/122 - 1s - loss: 0.0214 - val_loss: 0.0232 - 751ms/epoch - 6ms/step\n",
      "Epoch 4/50\n",
      "122/122 - 1s - loss: 0.0209 - val_loss: 0.0221 - 768ms/epoch - 6ms/step\n",
      "Epoch 5/50\n",
      "122/122 - 1s - loss: 0.0204 - val_loss: 0.0200 - 680ms/epoch - 6ms/step\n",
      "Epoch 6/50\n",
      "122/122 - 1s - loss: 0.0198 - val_loss: 0.0190 - 674ms/epoch - 6ms/step\n",
      "Epoch 7/50\n",
      "122/122 - 1s - loss: 0.0194 - val_loss: 0.0182 - 715ms/epoch - 6ms/step\n",
      "Epoch 8/50\n",
      "122/122 - 1s - loss: 0.0191 - val_loss: 0.0180 - 702ms/epoch - 6ms/step\n",
      "Epoch 9/50\n",
      "122/122 - 1s - loss: 0.0186 - val_loss: 0.0173 - 683ms/epoch - 6ms/step\n",
      "Epoch 10/50\n",
      "122/122 - 1s - loss: 0.0183 - val_loss: 0.0172 - 676ms/epoch - 6ms/step\n",
      "Epoch 11/50\n",
      "122/122 - 1s - loss: 0.0178 - val_loss: 0.0168 - 711ms/epoch - 6ms/step\n",
      "Epoch 12/50\n",
      "122/122 - 1s - loss: 0.0172 - val_loss: 0.0165 - 880ms/epoch - 7ms/step\n",
      "Epoch 13/50\n",
      "122/122 - 1s - loss: 0.0167 - val_loss: 0.0165 - 929ms/epoch - 8ms/step\n",
      "Epoch 14/50\n",
      "122/122 - 1s - loss: 0.0163 - val_loss: 0.0166 - 1s/epoch - 9ms/step\n",
      "Epoch 15/50\n",
      "122/122 - 1s - loss: 0.0160 - val_loss: 0.0164 - 709ms/epoch - 6ms/step\n",
      "Epoch 16/50\n",
      "122/122 - 1s - loss: 0.0157 - val_loss: 0.0161 - 674ms/epoch - 6ms/step\n",
      "Epoch 17/50\n",
      "122/122 - 1s - loss: 0.0155 - val_loss: 0.0162 - 924ms/epoch - 8ms/step\n",
      "Epoch 18/50\n",
      "122/122 - 1s - loss: 0.0155 - val_loss: 0.0162 - 1s/epoch - 9ms/step\n",
      "Epoch 19/50\n",
      "122/122 - 1s - loss: 0.0153 - val_loss: 0.0157 - 964ms/epoch - 8ms/step\n",
      "Epoch 20/50\n",
      "122/122 - 1s - loss: 0.0150 - val_loss: 0.0156 - 1s/epoch - 9ms/step\n",
      "Epoch 21/50\n",
      "122/122 - 1s - loss: 0.0148 - val_loss: 0.0162 - 804ms/epoch - 7ms/step\n",
      "Epoch 22/50\n",
      "122/122 - 1s - loss: 0.0148 - val_loss: 0.0166 - 731ms/epoch - 6ms/step\n",
      "Epoch 23/50\n",
      "122/122 - 1s - loss: 0.0147 - val_loss: 0.0166 - 732ms/epoch - 6ms/step\n",
      "Epoch 24/50\n",
      "122/122 - 1s - loss: 0.0147 - val_loss: 0.0171 - 654ms/epoch - 5ms/step\n",
      "Epoch 25/50\n",
      "122/122 - 1s - loss: 0.0147 - val_loss: 0.0171 - 652ms/epoch - 5ms/step\n",
      "Epoch 26/50\n",
      "122/122 - 1s - loss: 0.0145 - val_loss: 0.0163 - 661ms/epoch - 5ms/step\n",
      "Epoch 27/50\n",
      "122/122 - 1s - loss: 0.0145 - val_loss: 0.0169 - 655ms/epoch - 5ms/step\n",
      "Epoch 28/50\n",
      "122/122 - 1s - loss: 0.0144 - val_loss: 0.0166 - 674ms/epoch - 6ms/step\n",
      "Epoch 29/50\n",
      "122/122 - 1s - loss: 0.0146 - val_loss: 0.0175 - 663ms/epoch - 5ms/step\n",
      "Epoch 30/50\n",
      "122/122 - 1s - loss: 0.0146 - val_loss: 0.0171 - 651ms/epoch - 5ms/step\n",
      "Epoch 31/50\n",
      "122/122 - 1s - loss: 0.0145 - val_loss: 0.0164 - 649ms/epoch - 5ms/step\n",
      "Epoch 32/50\n",
      "122/122 - 1s - loss: 0.0144 - val_loss: 0.0162 - 657ms/epoch - 5ms/step\n",
      "Epoch 33/50\n",
      "122/122 - 1s - loss: 0.0145 - val_loss: 0.0164 - 649ms/epoch - 5ms/step\n",
      "Epoch 34/50\n",
      "122/122 - 1s - loss: 0.0145 - val_loss: 0.0163 - 649ms/epoch - 5ms/step\n",
      "Epoch 35/50\n",
      "122/122 - 1s - loss: 0.0144 - val_loss: 0.0153 - 679ms/epoch - 6ms/step\n",
      "Epoch 36/50\n",
      "122/122 - 1s - loss: 0.0145 - val_loss: 0.0150 - 648ms/epoch - 5ms/step\n",
      "Epoch 37/50\n",
      "122/122 - 1s - loss: 0.0144 - val_loss: 0.0145 - 648ms/epoch - 5ms/step\n",
      "Epoch 38/50\n",
      "122/122 - 1s - loss: 0.0142 - val_loss: 0.0148 - 660ms/epoch - 5ms/step\n",
      "Epoch 39/50\n",
      "122/122 - 1s - loss: 0.0145 - val_loss: 0.0151 - 649ms/epoch - 5ms/step\n",
      "Epoch 40/50\n",
      "122/122 - 1s - loss: 0.0144 - val_loss: 0.0148 - 651ms/epoch - 5ms/step\n",
      "Epoch 41/50\n",
      "122/122 - 1s - loss: 0.0144 - val_loss: 0.0145 - 649ms/epoch - 5ms/step\n",
      "Epoch 42/50\n",
      "122/122 - 1s - loss: 0.0143 - val_loss: 0.0144 - 658ms/epoch - 5ms/step\n",
      "Epoch 43/50\n",
      "122/122 - 1s - loss: 0.0143 - val_loss: 0.0144 - 662ms/epoch - 5ms/step\n",
      "Epoch 44/50\n",
      "122/122 - 1s - loss: 0.0143 - val_loss: 0.0144 - 655ms/epoch - 5ms/step\n",
      "Epoch 45/50\n",
      "122/122 - 1s - loss: 0.0143 - val_loss: 0.0141 - 656ms/epoch - 5ms/step\n",
      "Epoch 46/50\n",
      "122/122 - 1s - loss: 0.0142 - val_loss: 0.0137 - 649ms/epoch - 5ms/step\n",
      "Epoch 47/50\n",
      "122/122 - 1s - loss: 0.0144 - val_loss: 0.0139 - 647ms/epoch - 5ms/step\n",
      "Epoch 48/50\n",
      "122/122 - 1s - loss: 0.0144 - val_loss: 0.0136 - 655ms/epoch - 5ms/step\n",
      "Epoch 49/50\n",
      "122/122 - 1s - loss: 0.0143 - val_loss: 0.0135 - 646ms/epoch - 5ms/step\n",
      "Epoch 50/50\n",
      "122/122 - 1s - loss: 0.0142 - val_loss: 0.0135 - 655ms/epoch - 5ms/step\n"
     ]
    },
    {
     "data": {
      "image/png": "[encoded data removed]",
      "text/plain": [
       "<Figure size 640x480 with 1 Axes>"
      ]
     },
     "metadata": {},
     "output_type": "display_data"
    }
   ],
   "source": [
    "# Sequential model is appropriate to design LSTM RNN\n",
    "model = Sequential()\n",
    "# train_X : 3D tensor (samples, lag_hours, feature)\n",
    "# neurons =50\n",
    "# single input_shape = (lag_hours, feature)\n",
    "model.add(LSTM(50, input_shape=(n_hours, n_features,)   ))\n",
    "model.add(Dense(1))  # 1 neuron in the output layer\n",
    "model.compile(loss='mae', optimizer='adam')\n",
    "\n",
    "# fit network\n",
    "#verbose=0 will show nothing (silent)\n",
    "#verbose=1 will show an animated progress bar\n",
    "#verbose=2 will show the training progress for each epoch (shows loss and val_loss)\n",
    "\n",
    "history = model.fit(train_X, train_y, epochs=50, batch_size=72, validation_data=(test_X, test_y), verbose=2, shuffle=False)\n",
    "\n",
    "#  print history\n",
    "pyplot.plot(history.history['loss'])\n",
    "pyplot.plot(history.history['val_loss'])\n",
    "pyplot.title('Loss function')\n",
    "pyplot.legend(['train', 'test'])\n",
    "pyplot.xlabel('iterations')\n",
    "pyplot.show()\n",
    " "
   ]
  },
  {
   "cell_type": "markdown",
   "metadata": {},
   "source": [
    "## Evaluate Model\n",
    "After the model is fit, we can forecast for the test dataset.\n",
    "Compute the error as the Root Mean Squared Error (RMSE). \n",
    "\n",
    "Compare the predictions and the real data as shown in Fig. 2. \n",
    "\n",
    "<img src=\"images/f2.png\" style=\"width:350px;height:250px;\">\n",
    "<caption><center> **Fig. 1** : ** Test data prediction (the first 2000 samples)** </center></caption>"
   ]
  },
  {
   "cell_type": "code",
   "execution_count": 113,
   "metadata": {},
   "outputs": [
    {
     "name": "stdout",
     "output_type": "stream",
     "text": [
      "1095/1095 [==============================] - 2s 1ms/step\n",
      "Test RMSE: 0.027\n"
     ]
    },
    {
     "data": {
      "text/plain": [
       "[<matplotlib.lines.Line2D at 0x14123f190>]"
      ]
     },
     "execution_count": 113,
     "metadata": {},
     "output_type": "execute_result"
    },
    {
     "data": {
      "image/png": "[encoded data removed]",
      "text/plain": [
       "<Figure size 640x480 with 1 Axes>"
      ]
     },
     "metadata": {},
     "output_type": "display_data"
    }
   ],
   "source": [
    "yhat = model.predict(test_X) \n",
    "\n",
    "# calculate RMSE\n",
    "rmse = np.sqrt(mean_squared_error(test_y, yhat))\n",
    "print('Test RMSE: %.3f' % rmse)     \n",
    "\n",
    "#Plot test_y and yhat on the same plot\n",
    "#use pyplot from matplotlib\n",
    "\n"
   ]
  },
  {
   "cell_type": "code",
   "execution_count": 117,
   "metadata": {},
   "outputs": [
    {
     "data": {
      "text/plain": [
       "[<matplotlib.lines.Line2D at 0x143813160>]"
      ]
     },
     "execution_count": 117,
     "metadata": {},
     "output_type": "execute_result"
    },
    {
     "data": {
      "image/png": "[encoded data removed]",
      "text/plain": [
       "<Figure size 640x480 with 1 Axes>"
      ]
     },
     "metadata": {},
     "output_type": "display_data"
    }
   ],
   "source": [
    "import matplotlib.pyplot as plt\n",
    "plt.plot(range(test_y.shape[0]), test_y)\n",
    "plt.plot(range(yhat.shape[0]), yhat, 'r')"
   ]
  }
 ],
 "metadata": {
  "kernelspec": {
   "display_name": "env",
   "language": "python",
   "name": "python3"
  },
  "language_info": {
   "codemirror_mode": {
    "name": "ipython",
    "version": 3
   },
   "file_extension": ".py",
   "mimetype": "text/x-python",
   "name": "python",
   "nbconvert_exporter": "python",
   "pygments_lexer": "ipython3",
   "version": "3.10.8"
  },
  "vscode": {
   "interpreter": {
    "hash": "f18d617e669ee35a7f185d37fc55d21f049c179882078864793ae90604ebabf7"
   }
  }
 },
 "nbformat": 4,
 "nbformat_minor": 2
}
